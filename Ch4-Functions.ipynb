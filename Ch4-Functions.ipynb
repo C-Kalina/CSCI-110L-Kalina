{
 "cells": [
  {
   "cell_type": "markdown",
   "metadata": {},
   "source": [
    "# 4. Functions\n",
    "- mamed sequence of statements that execute together to solve some task \n",
    "- primary purpose is to help us break the problem into smaller sub-problems or tasks\n",
    "- two types: fruitful and void/fruitless functions\n",
    "- must be defined before it can be used\n",
    "- syntax for a function definition:\n",
    "<pre>\n",
    "def NAME( <em>OPT-PARAMETERS</em> ):\n",
    "    STATEMENTS\n",
    "    <em>return Value(s)</em>\n",
    "</pre>\n",
    "- <em>optional</em>\n",
    "- Function NAME follows the same rules as a variable/identifier name\n",
    "- Built-in and library functions, object methods we've used so far: type(), int(), float(), str(), input(), ord(), list(), math.sqrt(), math.pow(), copy.deepcopy(), isinstance, print(), open(), time.sleep(), sys.getsizeof(), os.system(), str.methods..., list.methods..., etc."
   ]
  },
  {
   "cell_type": "markdown",
   "metadata": {},
   "source": [
    "## 4.1 why functions?\n",
    "** dividing a program into functions have several advantages: **\n",
    "- give you an opportunity to name a group of statements, which makes your program easier to read and debug\n",
    "- can make a program smaller by eliminating repetitive code. Later, if you make a change, you only have to make it in one place\n",
    "- allow you to debug the parts one at a time (in a team) and then assemble them into a working whole\n",
    "- write once, test, share, and reuse many times (libraries, e.g.)\n"
   ]
  },
  {
   "cell_type": "code",
   "execution_count": null,
   "metadata": {
    "scrolled": true
   },
   "outputs": [],
   "source": [
    "# Function definition\n",
    "# void function; returns None by default\n",
    "def greet():\n",
    "    print('Hello World!')"
   ]
  },
  {
   "cell_type": "code",
   "execution_count": null,
   "metadata": {
    "scrolled": true
   },
   "outputs": [],
   "source": [
    "# Function call\n",
    "greet()"
   ]
  },
  {
   "cell_type": "code",
   "execution_count": null,
   "metadata": {
    "scrolled": true
   },
   "outputs": [],
   "source": [
    "a = greet() # returned value\n",
    "print(a)"
   ]
  },
  {
   "cell_type": "code",
   "execution_count": null,
   "metadata": {
    "scrolled": true
   },
   "outputs": [],
   "source": [
    "type(greet)"
   ]
  },
  {
   "cell_type": "code",
   "execution_count": null,
   "metadata": {
    "scrolled": true
   },
   "outputs": [],
   "source": [
    "# function can be assigned to a variable\n",
    "myfunc = greet\n",
    "type(myfunc)"
   ]
  },
  {
   "cell_type": "code",
   "execution_count": null,
   "metadata": {
    "scrolled": true
   },
   "outputs": [],
   "source": [
    "myfunc()"
   ]
  },
  {
   "cell_type": "markdown",
   "metadata": {},
   "source": [
    "## 4.2 passing data to functions as arguments/parameters"
   ]
  },
  {
   "cell_type": "code",
   "execution_count": null,
   "metadata": {
    "collapsed": true,
    "scrolled": true
   },
   "outputs": [],
   "source": [
    "def greet(name):\n",
    "    print('Hello {0}'.format(name))"
   ]
  },
  {
   "cell_type": "code",
   "execution_count": null,
   "metadata": {
    "scrolled": true
   },
   "outputs": [],
   "source": [
    "greet() # How to fix? provide default value or call it properly"
   ]
  },
  {
   "cell_type": "code",
   "execution_count": null,
   "metadata": {
    "collapsed": true,
    "scrolled": true
   },
   "outputs": [],
   "source": [
    "def greet(name=\"Anonymous\"):\n",
    "    print('Hello {0}'.format(name))"
   ]
  },
  {
   "cell_type": "code",
   "execution_count": null,
   "metadata": {
    "scrolled": true
   },
   "outputs": [],
   "source": [
    "greet()"
   ]
  },
  {
   "cell_type": "code",
   "execution_count": null,
   "metadata": {
    "scrolled": true
   },
   "outputs": [],
   "source": [
    "greet('John')\n",
    "user = input('Enter your name: ')\n",
    "greet(user)"
   ]
  },
  {
   "cell_type": "markdown",
   "metadata": {},
   "source": [
    "### 4.2.1 arguments are local to functions"
   ]
  },
  {
   "cell_type": "code",
   "execution_count": null,
   "metadata": {
    "scrolled": true
   },
   "outputs": [],
   "source": [
    "print(name)"
   ]
  },
  {
   "cell_type": "markdown",
   "metadata": {},
   "source": [
    "### 4.2.2 variable length arguments\n",
    "- *args (non-keyworded variable length arguments)\n",
    "- *kwargs (keyworded variable length arguments)\n",
    "- use when not sure how many arguments will be passed to the function"
   ]
  },
  {
   "cell_type": "code",
   "execution_count": null,
   "metadata": {
    "scrolled": true
   },
   "outputs": [],
   "source": [
    "# global and local scope demos with various ways to pass arguments\n",
    "var1 = \"Alice\" #global\n",
    "def myFunc(a, b, c, *args, **kwargs):\n",
    "    var1 = \"Bob\" # global or local? How can we access global var1?\n",
    "    var2 = \"John\"\n",
    "    print('var1 = ', var1)\n",
    "    print('var2 = ', var2)\n",
    "    print('a = ', a)\n",
    "    print('b = ', b)\n",
    "    print('c = ', c)\n",
    "    print('*args = ', args)\n",
    "    print('type of args = ', type(args))\n",
    "    print('**kwargs = ', kwargs)\n",
    "    print('type of kwargs = ', type(kwargs))\n",
    "\n",
    "myFunc(1, 'Apple', 4.5, 5, [2.5, 'b'], fname='Jake', num=1)\n",
    "print(var1)"
   ]
  },
  {
   "cell_type": "markdown",
   "metadata": {},
   "source": [
    "### 4.2.3 visualize variables' scope using pythontutor:\n",
    "http://pythontutor.com/visualize.html#code=var1%20%3D%20%22Alice%22%0Adef%20myFunc%28a,%20b,%20c,%20*args,%20**kwargs%29%3A%0A%20%20%20%20var1%20%3D%20%22Bob%22%0A%20%20%20%20var2%20%3D%20%22John%22%0A%0AmyFunc%281,%20'Apple',%204.5,%205,%20%5B2.5,%20'b'%5D,%20fname%3D'Jake',%20num%3D1%29%0Aprint%28var1%29&cumulative=false&curInstr=0&heapPrimitives=false&mode=display&origin=opt-frontend.js&py=3&rawInputLstJSON=%5B%5D&textReferences=false"
   ]
  },
  {
   "cell_type": "code",
   "execution_count": null,
   "metadata": {
    "scrolled": true
   },
   "outputs": [],
   "source": [
    "from IPython.display import IFrame\n",
    "src = \"\"\"\n",
    "http://pythontutor.com/iframe-embed.html#code=var1%20%3D%20%22Alice%22%0Adef%20myFunc%28a,%20b,%20c,%20*args,%20**kwargs%29%3A%0A%20%20%20%20var1%20%3D%20%22Bob%22%0A%20%20%20%20var2%20%3D%20%22John%22%0A%0AmyFunc%281,%20'Apple',%204.5,%205,%20%5B2.5,%20'b'%5D,%20fname%3D'Jake',%20num%3D1%29%0Aprint%28var1%29&codeDivHeight=400&codeDivWidth=350&cumulative=false&curInstr=0&heapPrimitives=false&origin=opt-frontend.js&py=3&rawInputLstJSON=%5B%5D&textReferences=false\n",
    "\"\"\"\n",
    "IFrame(src, width=900, height=400)"
   ]
  },
  {
   "cell_type": "markdown",
   "metadata": {},
   "source": [
    "## 4.3 fruitful functions\n",
    "- functions that return some values"
   ]
  },
  {
   "cell_type": "code",
   "execution_count": null,
   "metadata": {
    "collapsed": true,
    "scrolled": true
   },
   "outputs": [],
   "source": [
    "def isPrime(num):\n",
    "    \"\"\"\n",
    "    Function takes an interger number.\n",
    "    Returns True if num is prime, False otherwise.\n",
    "    \"\"\"\n",
    "    pass"
   ]
  },
  {
   "cell_type": "code",
   "execution_count": null,
   "metadata": {
    "scrolled": true
   },
   "outputs": [],
   "source": [
    "help(isPrime)"
   ]
  },
  {
   "cell_type": "markdown",
   "metadata": {},
   "source": [
    "### 4.3.1 functions can return more than 1 values"
   ]
  },
  {
   "cell_type": "code",
   "execution_count": null,
   "metadata": {
    "collapsed": true,
    "scrolled": true
   },
   "outputs": [],
   "source": [
    "def getAreaAndPerimeter(length, width):\n",
    "    \"\"\"\n",
    "    Function takes length and width of a rectangle.\n",
    "    Finds and returs area and perimeter of the rectangle.\n",
    "    \"\"\"\n",
    "    pass"
   ]
  },
  {
   "cell_type": "code",
   "execution_count": null,
   "metadata": {
    "collapsed": true,
    "scrolled": true
   },
   "outputs": [],
   "source": []
  }
 ],
 "metadata": {
  "kernelspec": {
   "display_name": "Python 3",
   "language": "python",
   "name": "python3"
  },
  "language_info": {
   "codemirror_mode": {
    "name": "ipython",
    "version": 3
   },
   "file_extension": ".py",
   "mimetype": "text/x-python",
   "name": "python",
   "nbconvert_exporter": "python",
   "pygments_lexer": "ipython3",
   "version": "3.6.1"
  }
 },
 "nbformat": 4,
 "nbformat_minor": 2
}
