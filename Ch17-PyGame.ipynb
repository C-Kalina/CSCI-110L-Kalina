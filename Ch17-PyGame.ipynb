{
 "cells": [
  {
   "cell_type": "markdown",
   "metadata": {},
   "source": [
    "# PyGame\n",
    "- third-party package that is used in Game development using Python\n",
    "- must install using pip - https://www.pygame.org/download.shtml\n",
    "- pip install pygame\n",
    "\n",
    "- see: http://openbookproject.net/thinkcs/python/english3e/pygame.html\n",
    "- see pygame folder within the repository to run the provided source codes"
   ]
  },
  {
   "cell_type": "code",
   "execution_count": null,
   "metadata": {},
   "outputs": [],
   "source": []
  }
 ],
 "metadata": {
  "kernelspec": {
   "display_name": "Python 3",
   "language": "python",
   "name": "python3"
  },
  "language_info": {
   "codemirror_mode": {
    "name": "ipython",
    "version": 3
   },
   "file_extension": ".py",
   "mimetype": "text/x-python",
   "name": "python",
   "nbconvert_exporter": "python",
   "pygments_lexer": "ipython3",
   "version": "3.6.2"
  }
 },
 "nbformat": 4,
 "nbformat_minor": 2
}
