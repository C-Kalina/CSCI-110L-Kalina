{
 "cells": [
  {
   "cell_type": "markdown",
   "metadata": {},
   "source": [
    "# Modules\n",
    "- module is a file containing Python definitions and statements intended for use in other Python programs\n",
    "- many Python modules come with built-in standard library"
   ]
  },
  {
   "cell_type": "markdown",
   "metadata": {},
   "source": [
    "## Various ways to import names into the current namespace"
   ]
  },
  {
   "cell_type": "code",
   "execution_count": null,
   "metadata": {
    "collapsed": true
   },
   "outputs": [],
   "source": [
    "# import math module into the global namespace\n",
    "import math\n",
    "x = math.sqrt(100)\n",
    "print(x)"
   ]
  },
  {
   "cell_type": "code",
   "execution_count": null,
   "metadata": {
    "collapsed": true
   },
   "outputs": [],
   "source": [
    "import random\n",
    "print(random.choice(list(range(1, 21))))"
   ]
  },
  {
   "cell_type": "code",
   "execution_count": null,
   "metadata": {
    "collapsed": true
   },
   "outputs": [],
   "source": [
    "from math import * # Import all the identifiers from math\n",
    "print(sqrt(100))\n",
    "print(pi)"
   ]
  },
  {
   "cell_type": "code",
   "execution_count": null,
   "metadata": {
    "collapsed": true
   },
   "outputs": [],
   "source": [
    "from math import radians, sin\n",
    "rad = radians(90)\n",
    "print(rad)\n",
    "print(sin(rad))"
   ]
  },
  {
   "cell_type": "markdown",
   "metadata": {},
   "source": [
    "## names can be imported to local namespace"
   ]
  },
  {
   "cell_type": "code",
   "execution_count": null,
   "metadata": {
    "collapsed": true
   },
   "outputs": [],
   "source": [
    "def isUpper(letter):\n",
    "    import string\n",
    "    return letter in string.ascii_uppercase"
   ]
  },
  {
   "cell_type": "code",
   "execution_count": null,
   "metadata": {
    "collapsed": true
   },
   "outputs": [],
   "source": [
    "print(isUpper('a'))"
   ]
  },
  {
   "cell_type": "code",
   "execution_count": null,
   "metadata": {
    "collapsed": true
   },
   "outputs": [],
   "source": [
    "# can we use string module outside isUpper function?\n",
    "print(string.digits)"
   ]
  },
  {
   "cell_type": "markdown",
   "metadata": {},
   "source": [
    "## scope and lookup rules\n",
    "<p>The <strong>scope</strong> of an identifier is the region of program code in which the identifier can be accessed, or used.</p>\n",
    "Three important scopes in Python:\n",
    "- <strong> Local scope </strong> refers to identifiers declared within a function\n",
    "- <strong>Global scope</strong> refers to all the identifiers declared within the current module, or file\n",
    "- <strong>Built-in scope</strong> refers to all the identifiers built into Python -- those like <em>range</em> and <em>min</em> that are (almost) always available \n",
    "<p>Precedence rule:</p>\n",
    "<ol>\n",
    "    <li>innermost or local scope</li>\n",
    "    <li>global scope</li>\n",
    "    <li>built-in scope</li>\n",
    "</ol>"
   ]
  },
  {
   "cell_type": "code",
   "execution_count": null,
   "metadata": {
    "collapsed": true
   },
   "outputs": [],
   "source": [
    "def test():\n",
    "    k = 5\n",
    "    for i in range(2):\n",
    "        for j in range(2):\n",
    "            if i == j:\n",
    "                k = 3\n",
    "                print('inside=',k)\n",
    "    print('outside=',k)"
   ]
  },
  {
   "cell_type": "code",
   "execution_count": null,
   "metadata": {},
   "outputs": [],
   "source": [
    "test()"
   ]
  },
  {
   "cell_type": "markdown",
   "metadata": {},
   "source": [
    "## use provided module1.py and module2.py modules to demonstrate user defined modules"
   ]
  },
  {
   "cell_type": "code",
   "execution_count": null,
   "metadata": {},
   "outputs": [],
   "source": [
    "import module1"
   ]
  },
  {
   "cell_type": "code",
   "execution_count": null,
   "metadata": {},
   "outputs": [],
   "source": [
    "help(module1)"
   ]
  },
  {
   "cell_type": "markdown",
   "metadata": {},
   "source": [
    "# Packages\n",
    "- folder with module(s)\n",
    "- must define \\__init\\__.py empty module to initialize as package\n",
    "- can't import package itself but only modules\n",
    "- https://docs.python.org/3/tutorial/modules.html#packages\n"
   ]
  },
  {
   "cell_type": "code",
   "execution_count": null,
   "metadata": {
    "collapsed": true
   },
   "outputs": [],
   "source": []
  }
 ],
 "metadata": {
  "kernelspec": {
   "display_name": "Python 3",
   "language": "python",
   "name": "python3"
  },
  "language_info": {
   "codemirror_mode": {
    "name": "ipython",
    "version": 3
   },
   "file_extension": ".py",
   "mimetype": "text/x-python",
   "name": "python",
   "nbconvert_exporter": "python",
   "pygments_lexer": "ipython3",
   "version": "3.6.1"
  }
 },
 "nbformat": 4,
 "nbformat_minor": 2
}
