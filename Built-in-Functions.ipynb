{
 "cells": [
  {
   "cell_type": "markdown",
   "metadata": {},
   "source": [
    "## Built-in Functions\n",
    "- built-in we've used so far: type(), int(), float(), str(), input(), ord(), list(), isinstance(), print(), open(), etc.\n",
    "- Python provides a list of built-in functions that are readily available for use:\n",
    "https://docs.python.org/3/library/functions.html\n",
    "- some built-in functions that may be useful to know"
   ]
  },
  {
   "cell_type": "markdown",
   "metadata": {},
   "source": [
    "### bin(x)\n",
    "- convert an integer number to a binary string prefixed with \"0b\"."
   ]
  },
  {
   "cell_type": "code",
   "execution_count": null,
   "metadata": {
    "collapsed": true
   },
   "outputs": [],
   "source": [
    "bin(3)"
   ]
  },
  {
   "cell_type": "code",
   "execution_count": 2,
   "metadata": {},
   "outputs": [
    {
     "name": "stdout",
     "output_type": "stream",
     "text": [
      "0b11\n",
      "11\n"
     ]
    }
   ],
   "source": [
    "# If prefix \"ob is desired or nor, use either of the following ways\n",
    "print(format(3, '#b'))\n",
    "print(format(3, 'b'))"
   ]
  },
  {
   "cell_type": "markdown",
   "metadata": {},
   "source": [
    "### chr(i)\n",
    "- return the string representing a character whose Unicode code point is the integer i\n",
    "- inverse of ord(char)"
   ]
  },
  {
   "cell_type": "code",
   "execution_count": 4,
   "metadata": {},
   "outputs": [
    {
     "name": "stdout",
     "output_type": "stream",
     "text": [
      "A\n",
      "a\n",
      "€\n"
     ]
    }
   ],
   "source": [
    "print(chr(65))\n",
    "print(chr(97))\n",
    "print(chr(8364))"
   ]
  },
  {
   "cell_type": "markdown",
   "metadata": {},
   "source": [
    "### divmod(a, b)\n",
    "- given two non-complex numbers as arguments, return a pair of numbers consisting of their quotient and remainder using integer division"
   ]
  },
  {
   "cell_type": "code",
   "execution_count": 5,
   "metadata": {},
   "outputs": [
    {
     "name": "stdout",
     "output_type": "stream",
     "text": [
      "(2, 1)\n"
     ]
    }
   ],
   "source": [
    "print(divmod(7, 3)) # return (quotient, remainder)"
   ]
  },
  {
   "cell_type": "markdown",
   "metadata": {},
   "source": [
    "### enumerate(iterable, start=0)\n",
    "- return an enumerate object. iterable must be a sequence, an iterator or object that supports iterations"
   ]
  },
  {
   "cell_type": "code",
   "execution_count": 6,
   "metadata": {},
   "outputs": [
    {
     "name": "stdout",
     "output_type": "stream",
     "text": [
      "[(0, 'Spring'), (1, 'Summer'), (2, 'Fall'), (3, 'Winter')]\n",
      "[(1, 'Spring'), (2, 'Summer'), (3, 'Fall'), (4, 'Winter')]\n"
     ]
    }
   ],
   "source": [
    "seasons = ['Spring', 'Summer', 'Fall', 'Winter']\n",
    "print(list(enumerate(seasons)))\n",
    "print(list(enumerate(seasons, start=1)))"
   ]
  },
  {
   "cell_type": "markdown",
   "metadata": {},
   "source": [
    "### eval(expression, globals=None, locals=None)\n",
    "- the expression argument is parsed and evaluated as Python expression\n",
    "- syntax errors reported as exceptions"
   ]
  },
  {
   "cell_type": "code",
   "execution_count": 11,
   "metadata": {},
   "outputs": [
    {
     "name": "stdout",
     "output_type": "stream",
     "text": [
      "4\n",
      "8\n"
     ]
    }
   ],
   "source": [
    "x = 2\n",
    "print(eval('x**2'))\n",
    "print(eval('x+2*3'))"
   ]
  },
  {
   "cell_type": "markdown",
   "metadata": {},
   "source": [
    "### globals() and locals()\n",
    "- globals() returns a dictionary representing the current global symbol table\n",
    "- locals() returns a dictionary representing the current local symbol table"
   ]
  },
  {
   "cell_type": "code",
   "execution_count": 12,
   "metadata": {},
   "outputs": [
    {
     "data": {
      "text/plain": [
       "{'In': ['',\n",
       "  \"format(3, 'b')\",\n",
       "  \"print(format(3, '#b'))\\nprint(format(3, 'b'))\",\n",
       "  'print(chr(65))\\nprint(chr(8364))',\n",
       "  'print(chr(65))\\nprint(chr(97))\\nprint(chr(8364))',\n",
       "  'print(divmod(7, 3))',\n",
       "  \"seasons = ['Spring', 'Summer', 'Fall', 'Winter']\\nprint(list(enumerate(seasons)))\\nprint(list(enumerate(seasons, start=1)))\",\n",
       "  \"x = 2\\neval('x**2')\\neval('1+2*3')\",\n",
       "  \"x = 2\\nprint(eval('x**2'))\\nprint('1+2*3'))\",\n",
       "  \"x = 2\\nprint(eval('x**2'))\\nprint('1+2*3')\",\n",
       "  \"x = 2\\nprint(eval('x**2'))\\nprint(eval('1+2*3'))\",\n",
       "  \"x = 2\\nprint(eval('x**2'))\\nprint(eval('x+2*3'))\",\n",
       "  'globals()'],\n",
       " 'Out': {1: '11', 7: 7},\n",
       " '_': 7,\n",
       " '_1': '11',\n",
       " '_7': 7,\n",
       " '__': '11',\n",
       " '___': '',\n",
       " '__builtin__': <module 'builtins' (built-in)>,\n",
       " '__builtins__': <module 'builtins' (built-in)>,\n",
       " '__doc__': 'Automatically created module for IPython interactive environment',\n",
       " '__loader__': None,\n",
       " '__name__': '__main__',\n",
       " '__package__': None,\n",
       " '__spec__': None,\n",
       " '_dh': ['/Volumes/Storage/Google Drive/CMU/Python/thinkpythonnotebooks'],\n",
       " '_i': \"x = 2\\nprint(eval('x**2'))\\nprint(eval('x+2*3'))\",\n",
       " '_i1': \"format(3, 'b')\",\n",
       " '_i10': \"x = 2\\nprint(eval('x**2'))\\nprint(eval('1+2*3'))\",\n",
       " '_i11': \"x = 2\\nprint(eval('x**2'))\\nprint(eval('x+2*3'))\",\n",
       " '_i12': 'globals()',\n",
       " '_i2': \"print(format(3, '#b'))\\nprint(format(3, 'b'))\",\n",
       " '_i3': 'print(chr(65))\\nprint(chr(8364))',\n",
       " '_i4': 'print(chr(65))\\nprint(chr(97))\\nprint(chr(8364))',\n",
       " '_i5': 'print(divmod(7, 3))',\n",
       " '_i6': \"seasons = ['Spring', 'Summer', 'Fall', 'Winter']\\nprint(list(enumerate(seasons)))\\nprint(list(enumerate(seasons, start=1)))\",\n",
       " '_i7': \"x = 2\\neval('x**2')\\neval('1+2*3')\",\n",
       " '_i8': \"x = 2\\nprint(eval('x**2'))\\nprint('1+2*3'))\",\n",
       " '_i9': \"x = 2\\nprint(eval('x**2'))\\nprint('1+2*3')\",\n",
       " '_ih': ['',\n",
       "  \"format(3, 'b')\",\n",
       "  \"print(format(3, '#b'))\\nprint(format(3, 'b'))\",\n",
       "  'print(chr(65))\\nprint(chr(8364))',\n",
       "  'print(chr(65))\\nprint(chr(97))\\nprint(chr(8364))',\n",
       "  'print(divmod(7, 3))',\n",
       "  \"seasons = ['Spring', 'Summer', 'Fall', 'Winter']\\nprint(list(enumerate(seasons)))\\nprint(list(enumerate(seasons, start=1)))\",\n",
       "  \"x = 2\\neval('x**2')\\neval('1+2*3')\",\n",
       "  \"x = 2\\nprint(eval('x**2'))\\nprint('1+2*3'))\",\n",
       "  \"x = 2\\nprint(eval('x**2'))\\nprint('1+2*3')\",\n",
       "  \"x = 2\\nprint(eval('x**2'))\\nprint(eval('1+2*3'))\",\n",
       "  \"x = 2\\nprint(eval('x**2'))\\nprint(eval('x+2*3'))\",\n",
       "  'globals()'],\n",
       " '_ii': \"x = 2\\nprint(eval('x**2'))\\nprint(eval('1+2*3'))\",\n",
       " '_iii': \"x = 2\\nprint(eval('x**2'))\\nprint('1+2*3')\",\n",
       " '_oh': {1: '11', 7: 7},\n",
       " '_sh': <module 'IPython.core.shadowns' from '/Users/rbasnet/anaconda/lib/python3.6/site-packages/IPython/core/shadowns.py'>,\n",
       " 'exit': <IPython.core.autocall.ZMQExitAutocall at 0x10e1c8fd0>,\n",
       " 'get_ipython': <bound method InteractiveShell.get_ipython of <ipykernel.zmqshell.ZMQInteractiveShell object at 0x10df55eb8>>,\n",
       " 'quit': <IPython.core.autocall.ZMQExitAutocall at 0x10e1c8fd0>,\n",
       " 'seasons': ['Spring', 'Summer', 'Fall', 'Winter'],\n",
       " 'x': 2}"
      ]
     },
     "execution_count": 12,
     "metadata": {},
     "output_type": "execute_result"
    }
   ],
   "source": [
    "globals()"
   ]
  },
  {
   "cell_type": "markdown",
   "metadata": {},
   "source": [
    "### hex(x)\n",
    "- convert an integer number to a lowercase hexadecimal string prefixed with \"0x\""
   ]
  },
  {
   "cell_type": "code",
   "execution_count": 13,
   "metadata": {},
   "outputs": [
    {
     "name": "stdout",
     "output_type": "stream",
     "text": [
      "0x2a\n",
      "-0x2a\n"
     ]
    }
   ],
   "source": [
    "print(hex(42))\n",
    "print(hex(-42))"
   ]
  },
  {
   "cell_type": "code",
   "execution_count": 14,
   "metadata": {},
   "outputs": [
    {
     "data": {
      "text/plain": [
       "('0xff', 'ff', 'FF')"
      ]
     },
     "execution_count": 14,
     "metadata": {},
     "output_type": "execute_result"
    }
   ],
   "source": [
    "# Other ways\n",
    "format(255, '#x'), format(255, 'x'), format(255, 'X')"
   ]
  },
  {
   "cell_type": "markdown",
   "metadata": {},
   "source": [
    "### id(object)\n",
    "- return the 'identity' of an object\n",
    "- guaranteed unique integer and constant thoughout its lifetime"
   ]
  },
  {
   "cell_type": "code",
   "execution_count": 15,
   "metadata": {},
   "outputs": [
    {
     "data": {
      "text/plain": [
       "4534967240"
      ]
     },
     "execution_count": 15,
     "metadata": {},
     "output_type": "execute_result"
    }
   ],
   "source": [
    "id(seasons)"
   ]
  },
  {
   "cell_type": "markdown",
   "metadata": {},
   "source": [
    "### map(function, iterable, ...)\n",
    "- return an iterator that applies function to every item of iterable, yielding the results"
   ]
  },
  {
   "cell_type": "code",
   "execution_count": 27,
   "metadata": {},
   "outputs": [
    {
     "name": "stdout",
     "output_type": "stream",
     "text": [
      "[1, 4, 9, 16, 25]\n"
     ]
    }
   ],
   "source": [
    "def function(x):\n",
    "    return x**2\n",
    "\n",
    "items = [1, 2, 3, 4, 5]\n",
    "print(list(map(function, items)))"
   ]
  },
  {
   "cell_type": "code",
   "execution_count": 29,
   "metadata": {},
   "outputs": [
    {
     "name": "stdout",
     "output_type": "stream",
     "text": [
      "items =  [1, 2, 3, 4, 5]\n",
      "multipliers =  [5, 4, 3, 2, 1]\n",
      "[5, 8, 9, 8, 5]\n"
     ]
    }
   ],
   "source": [
    "def function1(x, y):\n",
    "    return x*y\n",
    "\n",
    "multipliers = items[::-1]\n",
    "print('items = ', items)\n",
    "print('multipliers = ', multipliers)\n",
    "#mapping items with multipliers and applying function1 to each pair\n",
    "print(list(map(function1, items, multipliers)))"
   ]
  },
  {
   "cell_type": "markdown",
   "metadata": {},
   "source": [
    "### max(iterable, ...) or max(arg1, arg2, ...), min(), and sum(), pow(base, exp)\n",
    "- max() - returns the largest item in an iterable or the largest of two or more arguments\n",
    "- min() - retuns the smallest"
   ]
  },
  {
   "cell_type": "code",
   "execution_count": 39,
   "metadata": {},
   "outputs": [
    {
     "name": "stdout",
     "output_type": "stream",
     "text": [
      "5\n",
      "1000.5\n",
      "8.9\n",
      "sum of  [1, 2, 3, 4, 5] = 15\n",
      "2 to the power 3 =  8\n"
     ]
    }
   ],
   "source": [
    "print(max(items))\n",
    "print(max(100, 8.9, 999, 1000.5))\n",
    "print(min(100, 8.9, 999, 1000.5))\n",
    "print('sum of ', items, '=', sum(items))\n",
    "print(sum(1, 2, 3))\n",
    "print('2 to the power 3 =', pow(2, 3))"
   ]
  },
  {
   "cell_type": "markdown",
   "metadata": {},
   "source": [
    "### oct(x)\n",
    "- return an octal string representation with \"0o\" prefix of a given integer x"
   ]
  },
  {
   "cell_type": "code",
   "execution_count": 31,
   "metadata": {},
   "outputs": [
    {
     "name": "stdout",
     "output_type": "stream",
     "text": [
      "0o144\n"
     ]
    }
   ],
   "source": [
    "print(oct(100))"
   ]
  },
  {
   "cell_type": "code",
   "execution_count": 32,
   "metadata": {},
   "outputs": [
    {
     "data": {
      "text/plain": [
       "('0o12', '12')"
      ]
     },
     "execution_count": 32,
     "metadata": {},
     "output_type": "execute_result"
    }
   ],
   "source": [
    "format(10, '#o'), format(10, 'o')"
   ]
  },
  {
   "cell_type": "markdown",
   "metadata": {},
   "source": [
    "### ord(c)\n",
    "- return an integer representing the Unicode code of a given Unicode character"
   ]
  },
  {
   "cell_type": "code",
   "execution_count": 33,
   "metadata": {},
   "outputs": [
    {
     "name": "stdout",
     "output_type": "stream",
     "text": [
      "32\n",
      "126\n"
     ]
    }
   ],
   "source": [
    "print(ord(' '))\n",
    "print(ord('~'))"
   ]
  },
  {
   "cell_type": "markdown",
   "metadata": {},
   "source": [
    "### print(*object, sep='', end='\\n', file=sys.stdout, flush=False)"
   ]
  },
  {
   "cell_type": "markdown",
   "metadata": {},
   "source": [
    "### range(stop), range(start, stop[,step])\n",
    "- retuns an iterator to immutable sequence type"
   ]
  },
  {
   "cell_type": "markdown",
   "metadata": {},
   "source": [
    "## set([iterable])\n",
    "- returns a new set object, optionally with elements taken from iterable.\n",
    "- specialized sequence data structure like list, tuple"
   ]
  },
  {
   "cell_type": "code",
   "execution_count": 43,
   "metadata": {},
   "outputs": [
    {
     "name": "stdout",
     "output_type": "stream",
     "text": [
      "Help on class set in module builtins:\n",
      "\n",
      "class set(object)\n",
      " |  set() -> new empty set object\n",
      " |  set(iterable) -> new set object\n",
      " |  \n",
      " |  Build an unordered collection of unique elements.\n",
      " |  \n",
      " |  Methods defined here:\n",
      " |  \n",
      " |  __and__(self, value, /)\n",
      " |      Return self&value.\n",
      " |  \n",
      " |  __contains__(...)\n",
      " |      x.__contains__(y) <==> y in x.\n",
      " |  \n",
      " |  __eq__(self, value, /)\n",
      " |      Return self==value.\n",
      " |  \n",
      " |  __ge__(self, value, /)\n",
      " |      Return self>=value.\n",
      " |  \n",
      " |  __getattribute__(self, name, /)\n",
      " |      Return getattr(self, name).\n",
      " |  \n",
      " |  __gt__(self, value, /)\n",
      " |      Return self>value.\n",
      " |  \n",
      " |  __iand__(self, value, /)\n",
      " |      Return self&=value.\n",
      " |  \n",
      " |  __init__(self, /, *args, **kwargs)\n",
      " |      Initialize self.  See help(type(self)) for accurate signature.\n",
      " |  \n",
      " |  __ior__(self, value, /)\n",
      " |      Return self|=value.\n",
      " |  \n",
      " |  __isub__(self, value, /)\n",
      " |      Return self-=value.\n",
      " |  \n",
      " |  __iter__(self, /)\n",
      " |      Implement iter(self).\n",
      " |  \n",
      " |  __ixor__(self, value, /)\n",
      " |      Return self^=value.\n",
      " |  \n",
      " |  __le__(self, value, /)\n",
      " |      Return self<=value.\n",
      " |  \n",
      " |  __len__(self, /)\n",
      " |      Return len(self).\n",
      " |  \n",
      " |  __lt__(self, value, /)\n",
      " |      Return self<value.\n",
      " |  \n",
      " |  __ne__(self, value, /)\n",
      " |      Return self!=value.\n",
      " |  \n",
      " |  __new__(*args, **kwargs) from builtins.type\n",
      " |      Create and return a new object.  See help(type) for accurate signature.\n",
      " |  \n",
      " |  __or__(self, value, /)\n",
      " |      Return self|value.\n",
      " |  \n",
      " |  __rand__(self, value, /)\n",
      " |      Return value&self.\n",
      " |  \n",
      " |  __reduce__(...)\n",
      " |      Return state information for pickling.\n",
      " |  \n",
      " |  __repr__(self, /)\n",
      " |      Return repr(self).\n",
      " |  \n",
      " |  __ror__(self, value, /)\n",
      " |      Return value|self.\n",
      " |  \n",
      " |  __rsub__(self, value, /)\n",
      " |      Return value-self.\n",
      " |  \n",
      " |  __rxor__(self, value, /)\n",
      " |      Return value^self.\n",
      " |  \n",
      " |  __sizeof__(...)\n",
      " |      S.__sizeof__() -> size of S in memory, in bytes\n",
      " |  \n",
      " |  __sub__(self, value, /)\n",
      " |      Return self-value.\n",
      " |  \n",
      " |  __xor__(self, value, /)\n",
      " |      Return self^value.\n",
      " |  \n",
      " |  add(...)\n",
      " |      Add an element to a set.\n",
      " |      \n",
      " |      This has no effect if the element is already present.\n",
      " |  \n",
      " |  clear(...)\n",
      " |      Remove all elements from this set.\n",
      " |  \n",
      " |  copy(...)\n",
      " |      Return a shallow copy of a set.\n",
      " |  \n",
      " |  difference(...)\n",
      " |      Return the difference of two or more sets as a new set.\n",
      " |      \n",
      " |      (i.e. all elements that are in this set but not the others.)\n",
      " |  \n",
      " |  difference_update(...)\n",
      " |      Remove all elements of another set from this set.\n",
      " |  \n",
      " |  discard(...)\n",
      " |      Remove an element from a set if it is a member.\n",
      " |      \n",
      " |      If the element is not a member, do nothing.\n",
      " |  \n",
      " |  intersection(...)\n",
      " |      Return the intersection of two sets as a new set.\n",
      " |      \n",
      " |      (i.e. all elements that are in both sets.)\n",
      " |  \n",
      " |  intersection_update(...)\n",
      " |      Update a set with the intersection of itself and another.\n",
      " |  \n",
      " |  isdisjoint(...)\n",
      " |      Return True if two sets have a null intersection.\n",
      " |  \n",
      " |  issubset(...)\n",
      " |      Report whether another set contains this set.\n",
      " |  \n",
      " |  issuperset(...)\n",
      " |      Report whether this set contains another set.\n",
      " |  \n",
      " |  pop(...)\n",
      " |      Remove and return an arbitrary set element.\n",
      " |      Raises KeyError if the set is empty.\n",
      " |  \n",
      " |  remove(...)\n",
      " |      Remove an element from a set; it must be a member.\n",
      " |      \n",
      " |      If the element is not a member, raise a KeyError.\n",
      " |  \n",
      " |  symmetric_difference(...)\n",
      " |      Return the symmetric difference of two sets as a new set.\n",
      " |      \n",
      " |      (i.e. all elements that are in exactly one of the sets.)\n",
      " |  \n",
      " |  symmetric_difference_update(...)\n",
      " |      Update a set with the symmetric difference of itself and another.\n",
      " |  \n",
      " |  union(...)\n",
      " |      Return the union of sets as a new set.\n",
      " |      \n",
      " |      (i.e. all elements that are in either set.)\n",
      " |  \n",
      " |  update(...)\n",
      " |      Update a set with the union of itself and others.\n",
      " |  \n",
      " |  ----------------------------------------------------------------------\n",
      " |  Data and other attributes defined here:\n",
      " |  \n",
      " |  __hash__ = None\n",
      "\n"
     ]
    }
   ],
   "source": [
    "help(set)"
   ]
  },
  {
   "cell_type": "markdown",
   "metadata": {},
   "source": [
    "### createing set objects"
   ]
  },
  {
   "cell_type": "code",
   "execution_count": 53,
   "metadata": {
    "collapsed": true
   },
   "outputs": [],
   "source": [
    "set1 = set()\n",
    "set2 = set([1, 1, 2, 2, 3, 3, 'a', 'a'])"
   ]
  },
  {
   "cell_type": "code",
   "execution_count": 54,
   "metadata": {},
   "outputs": [
    {
     "name": "stdout",
     "output_type": "stream",
     "text": [
      "set()\n",
      "{'a', 1, 2, 3}\n"
     ]
    }
   ],
   "source": [
    "print(set1)\n",
    "print(set2)"
   ]
  },
  {
   "cell_type": "code",
   "execution_count": 55,
   "metadata": {},
   "outputs": [
    {
     "name": "stdout",
     "output_type": "stream",
     "text": [
      "{1, 10, 100}\n"
     ]
    }
   ],
   "source": [
    "set1.add(100)\n",
    "set1.add(100)\n",
    "set1.add(10)\n",
    "set1.add(1)\n",
    "print(set1)"
   ]
  },
  {
   "cell_type": "code",
   "execution_count": 56,
   "metadata": {},
   "outputs": [
    {
     "name": "stdout",
     "output_type": "stream",
     "text": [
      "{1}\n"
     ]
    }
   ],
   "source": [
    "print(set1.intersection(set2))"
   ]
  },
  {
   "cell_type": "code",
   "execution_count": 57,
   "metadata": {},
   "outputs": [
    {
     "name": "stdout",
     "output_type": "stream",
     "text": [
      "{'a', 1, 2, 3, 100, 10}\n"
     ]
    }
   ],
   "source": [
    "print(set1.union(set2))"
   ]
  },
  {
   "cell_type": "markdown",
   "metadata": {},
   "source": [
    "### exercise: practise with other set methods"
   ]
  },
  {
   "cell_type": "markdown",
   "metadata": {},
   "source": [
    "### sorted(iterable, \\*, key=None, reverse=False)\n",
    "- returns a new sorted list from the tiems in iterable\n",
    "- *key* specifies a function of one argument that is used to extract a comparision key from each list element: key=str.lower\n",
    "- *reverse* if set to True, list elements are sorted if each comparison were reversed"
   ]
  },
  {
   "cell_type": "code",
   "execution_count": 93,
   "metadata": {},
   "outputs": [],
   "source": [
    "list1 = ['apple', 'Apple', 'ball', 'Ball', 'cat']\n",
    "list1.sort()"
   ]
  },
  {
   "cell_type": "code",
   "execution_count": 94,
   "metadata": {},
   "outputs": [],
   "source": [
    "list2 = sorted(list1, key=str.lower)"
   ]
  },
  {
   "cell_type": "code",
   "execution_count": 95,
   "metadata": {},
   "outputs": [
    {
     "name": "stdout",
     "output_type": "stream",
     "text": [
      "['Apple', 'Ball', 'apple', 'ball', 'cat']\n",
      "['Apple', 'apple', 'Ball', 'ball', 'cat']\n"
     ]
    }
   ],
   "source": [
    "print(list1)\n",
    "print(list2)"
   ]
  },
  {
   "cell_type": "code",
   "execution_count": 76,
   "metadata": {
    "collapsed": true
   },
   "outputs": [],
   "source": [
    "list3 = [('cat', 10), ('ball', 20), ('apple', 3)] "
   ]
  },
  {
   "cell_type": "code",
   "execution_count": 77,
   "metadata": {},
   "outputs": [
    {
     "name": "stdout",
     "output_type": "stream",
     "text": [
      "[('apple', 3), ('ball', 20), ('cat', 10)]\n"
     ]
    }
   ],
   "source": [
    "list3.sort()\n",
    "print(list3)"
   ]
  },
  {
   "cell_type": "markdown",
   "metadata": {},
   "source": [
    "### sort list of tuples based on 2<sup>nd</sup> value"
   ]
  },
  {
   "cell_type": "code",
   "execution_count": 78,
   "metadata": {
    "collapsed": true
   },
   "outputs": [],
   "source": [
    "from operator import itemgetter\n",
    "list4 = sorted(list3, key=itemgetter(1))"
   ]
  },
  {
   "cell_type": "code",
   "execution_count": 79,
   "metadata": {},
   "outputs": [
    {
     "name": "stdout",
     "output_type": "stream",
     "text": [
      "[('apple', 3), ('cat', 10), ('ball', 20)]\n"
     ]
    }
   ],
   "source": [
    "print(list4)"
   ]
  },
  {
   "cell_type": "code",
   "execution_count": 80,
   "metadata": {
    "collapsed": true
   },
   "outputs": [],
   "source": [
    "list5 = sorted(list3, key=itemgetter(1), reverse=True)"
   ]
  },
  {
   "cell_type": "code",
   "execution_count": 81,
   "metadata": {},
   "outputs": [
    {
     "data": {
      "text/plain": [
       "[('ball', 20), ('cat', 10), ('apple', 3)]"
      ]
     },
     "execution_count": 81,
     "metadata": {},
     "output_type": "execute_result"
    }
   ],
   "source": [
    "list5"
   ]
  },
  {
   "cell_type": "markdown",
   "metadata": {},
   "source": [
    "### write your own key function"
   ]
  },
  {
   "cell_type": "code",
   "execution_count": 96,
   "metadata": {
    "collapsed": true
   },
   "outputs": [],
   "source": [
    "def myKey(tup):\n",
    "    return tup[1]\n",
    "\n",
    "list6 = sorted(list3, key=myKey, reverse=True)\n",
    "assert list5 == list6"
   ]
  },
  {
   "cell_type": "code",
   "execution_count": null,
   "metadata": {
    "collapsed": true
   },
   "outputs": [],
   "source": []
  }
 ],
 "metadata": {
  "kernelspec": {
   "display_name": "Python 3",
   "language": "python",
   "name": "python3"
  },
  "language_info": {
   "codemirror_mode": {
    "name": "ipython",
    "version": 3
   },
   "file_extension": ".py",
   "mimetype": "text/x-python",
   "name": "python",
   "nbconvert_exporter": "python",
   "pygments_lexer": "ipython3",
   "version": "3.6.1"
  }
 },
 "nbformat": 4,
 "nbformat_minor": 2
}
