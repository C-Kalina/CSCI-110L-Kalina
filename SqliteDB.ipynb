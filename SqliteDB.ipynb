{
 "cells": [
  {
   "cell_type": "markdown",
   "metadata": {},
   "source": [
    "# Sqlite database\n",
    "- https://www.sqlite.org/\n",
    "- C-based, one of the most used embedded database (zero configuration)\n",
    "\n",
    "## sqlite browser\n",
    "- http://sqlitebrowser.org/\n",
    "\n",
    "## sql basics\n",
    " - http://www.w3schools.com/sql/default.asp"
   ]
  },
  {
   "cell_type": "markdown",
   "metadata": {},
   "source": [
    "## sqlite3 module\n",
    "- https://docs.python.org/3/library/sqlite3.html\n",
    "- SQLite natively supports the following types: NULL, INTEGER, REAL, TEXT, BLOB \n",
    "<table>\n",
    "<tr><td>Python type</td>\n",
    "    <td>SQLite type</td>\n",
    "</tr>\n",
    "<tr><td>None</td>\n",
    "    <td>NULL</td>\n",
    "</tr>\n",
    "<tr><td>int</td>\n",
    "    <td>INTEGER</td>\n",
    "</tr>\n",
    "<tr><td>float</td>\n",
    "    <td>REAL</td>\n",
    "</tr>\n",
    "<tr><td>str</td>\n",
    "    <td>TEXT</td>\n",
    "</tr>\n",
    "<tr><td>bytes</td>\n",
    "    <td>BLOB</td>\n",
    "</tr>\n",
    "</table>\n",
    "\n",
    "## in memory db example"
   ]
  },
  {
   "cell_type": "code",
   "execution_count": null,
   "metadata": {
    "collapsed": true
   },
   "outputs": [],
   "source": [
    "import sqlite3\n",
    "# connect to the memory database\n",
    "con = sqlite3.connect(\":memory:\")\n",
    "\n",
    "# create a table\n",
    "con.execute(\"create table person(fname, lname)\")"
   ]
  },
  {
   "cell_type": "code",
   "execution_count": null,
   "metadata": {
    "collapsed": true
   },
   "outputs": [],
   "source": [
    "# fill the table with data\n",
    "persons = [('Hugo', 'Boss'), ('Calvin', 'Klien')]\n",
    "con.executemany(\"insert into person(fname, lname) values (?, ?)\", \n",
    "                persons)"
   ]
  },
  {
   "cell_type": "code",
   "execution_count": null,
   "metadata": {
    "collapsed": true
   },
   "outputs": [],
   "source": [
    "# print the table contents\n",
    "for row in con.execute(\"select rowid, fname, lname from person\"):\n",
    "    print(row)"
   ]
  },
  {
   "cell_type": "code",
   "execution_count": null,
   "metadata": {
    "collapsed": true
   },
   "outputs": [],
   "source": [
    "print(\"I just deleted\", con.execute(\"delete from person where rowid=1\").rowcount, \n",
    "      \"rows\")"
   ]
  },
  {
   "cell_type": "markdown",
   "metadata": {},
   "source": [
    "## db file example\n",
    "### create database, create table and insert data into table"
   ]
  },
  {
   "cell_type": "code",
   "execution_count": 2,
   "metadata": {},
   "outputs": [
    {
     "data": {
      "text/plain": [
       "<sqlite3.Cursor at 0x109d4e420>"
      ]
     },
     "execution_count": 2,
     "metadata": {},
     "output_type": "execute_result"
    }
   ],
   "source": [
    "import sqlite3\n",
    "# create connection\n",
    "conn = sqlite3.connect('example.db')\n",
    "# create cursor object\n",
    "cur = conn.cursor()\n",
    "\n",
    "cur.execute(\"\"\"CREATE TABLE IF NOT EXISTS students (\n",
    "                firstName text, \n",
    "                lastName text, \n",
    "                test1 real, \n",
    "                test2 real,\n",
    "                average real,\n",
    "                grade text\n",
    "                )\n",
    "            \"\"\")"
   ]
  },
  {
   "cell_type": "code",
   "execution_count": 3,
   "metadata": {},
   "outputs": [
    {
     "data": {
      "text/plain": [
       "<sqlite3.Cursor at 0x109d4e420>"
      ]
     },
     "execution_count": 3,
     "metadata": {},
     "output_type": "execute_result"
    }
   ],
   "source": [
    "query = \"\"\" INSERT INTO students (firstName, lastName, \n",
    "            test1, test2) values (?, ?, ?, ?)\n",
    "        \"\"\"\n",
    "cur.execute(query, ('John', 'Smith', 99, 95.5))"
   ]
  },
  {
   "cell_type": "code",
   "execution_count": 4,
   "metadata": {},
   "outputs": [
    {
     "data": {
      "text/plain": [
       "<sqlite3.Cursor at 0x109d4e420>"
      ]
     },
     "execution_count": 4,
     "metadata": {},
     "output_type": "execute_result"
    }
   ],
   "source": [
    "cur.execute(query, ('Michael', 'Jordan', 50, 65))"
   ]
  },
  {
   "cell_type": "code",
   "execution_count": 5,
   "metadata": {
    "collapsed": true
   },
   "outputs": [],
   "source": [
    "# save/commit the changes to the db\n",
    "conn.commit()\n",
    "# close the database if done\n",
    "conn.close()"
   ]
  },
  {
   "cell_type": "markdown",
   "metadata": {},
   "source": [
    "### open database, read and update table"
   ]
  },
  {
   "cell_type": "code",
   "execution_count": 6,
   "metadata": {
    "collapsed": true
   },
   "outputs": [],
   "source": [
    "import sqlite3\n",
    "conn = sqlite3.connect('example.db')\n",
    "cur = conn.cursor()"
   ]
  },
  {
   "cell_type": "code",
   "execution_count": 7,
   "metadata": {},
   "outputs": [
    {
     "name": "stdout",
     "output_type": "stream",
     "text": [
      "('John', 'Smith', 99.0, 95.5, None, None)\n"
     ]
    }
   ],
   "source": [
    "cur.execute('SELECT * FROM students where rowid = 1')\n",
    "row = cur.fetchone() # returns one row as tuple if rowid with value 1 exists\n",
    "print(row)"
   ]
  },
  {
   "cell_type": "code",
   "execution_count": 8,
   "metadata": {},
   "outputs": [
    {
     "name": "stdout",
     "output_type": "stream",
     "text": [
      "John\n",
      "Smith\n",
      "99.0\n",
      "95.5\n",
      "None\n",
      "None\n"
     ]
    }
   ],
   "source": [
    "for col in row:\n",
    "    print(col)"
   ]
  },
  {
   "cell_type": "code",
   "execution_count": 9,
   "metadata": {},
   "outputs": [
    {
     "name": "stdout",
     "output_type": "stream",
     "text": [
      "<class 'list'>\n"
     ]
    }
   ],
   "source": [
    "cur.execute('SELECT rowid, * FROM students')\n",
    "rows = cur.fetchall()\n",
    "print(type(rows))"
   ]
  },
  {
   "cell_type": "code",
   "execution_count": 10,
   "metadata": {},
   "outputs": [
    {
     "name": "stdout",
     "output_type": "stream",
     "text": [
      "(1, 'John', 'Smith', 99.0, 95.5, None, None)\n",
      "(2, 'Michael', 'Jordan', 50.0, 65.0, None, None)\n"
     ]
    }
   ],
   "source": [
    "for row in rows:\n",
    "    print(row)"
   ]
  },
  {
   "cell_type": "markdown",
   "metadata": {},
   "source": [
    "<strong>update table</strong>"
   ]
  },
  {
   "cell_type": "code",
   "execution_count": 11,
   "metadata": {
    "collapsed": true
   },
   "outputs": [],
   "source": [
    "for row in rows:\n",
    "    avg = (row[3] + row[4])/2\n",
    "    # grade = ?\n",
    "    cur.execute('update students set average=? where rowid=?', (avg, row[0]))"
   ]
  },
  {
   "cell_type": "code",
   "execution_count": 12,
   "metadata": {},
   "outputs": [
    {
     "name": "stdout",
     "output_type": "stream",
     "text": [
      "[('John', 'Smith', 99.0, 95.5, 97.25, None), ('Michael', 'Jordan', 50.0, 65.0, 57.5, None)]\n"
     ]
    }
   ],
   "source": [
    "cur.execute('select * from students')\n",
    "print(cur.fetchall())"
   ]
  },
  {
   "cell_type": "code",
   "execution_count": 13,
   "metadata": {
    "collapsed": true
   },
   "outputs": [],
   "source": [
    "# commit changes and close connection\n",
    "conn.commit()\n",
    "conn.close()"
   ]
  },
  {
   "cell_type": "markdown",
   "metadata": {},
   "source": [
    "## SQL Injection Vulnerability\n",
    "- how not to write sql query in programs"
   ]
  },
  {
   "cell_type": "code",
   "execution_count": 14,
   "metadata": {},
   "outputs": [
    {
     "data": {
      "text/plain": [
       "<sqlite3.Cursor at 0x109d4e6c0>"
      ]
     },
     "execution_count": 14,
     "metadata": {},
     "output_type": "execute_result"
    }
   ],
   "source": [
    "import sqlite3\n",
    "conn = sqlite3.connect('example.db')\n",
    "cur = conn.cursor()\n",
    "\n",
    "cur.execute(\"\"\"CREATE TABLE IF NOT EXISTS users (\n",
    "                username text unique, \n",
    "                password text \n",
    "                )\n",
    "            \"\"\")"
   ]
  },
  {
   "cell_type": "code",
   "execution_count": 15,
   "metadata": {},
   "outputs": [
    {
     "name": "stdout",
     "output_type": "stream",
     "text": [
      "Enter your username: john\n",
      "Pick a password: P@$sw0rd!\n"
     ]
    }
   ],
   "source": [
    "# Prompt user to create account\n",
    "username = input('Enter your username: ')\n",
    "password = input('Pick a password: ')"
   ]
  },
  {
   "cell_type": "code",
   "execution_count": 16,
   "metadata": {},
   "outputs": [
    {
     "data": {
      "text/plain": [
       "<sqlite3.Cursor at 0x109d4e6c0>"
      ]
     },
     "execution_count": 16,
     "metadata": {},
     "output_type": "execute_result"
    }
   ],
   "source": [
    "# bad passwords\n",
    "# insecure way to create sql statements\n",
    "sqlinsert = \"\"\"insert into users (username, password) values \n",
    "            ('{0}', '{1}')\n",
    "            \"\"\".format(username, password)\n",
    "\n",
    "cur.execute(sqlinsert)\n"
   ]
  },
  {
   "cell_type": "code",
   "execution_count": 17,
   "metadata": {},
   "outputs": [
    {
     "name": "stdout",
     "output_type": "stream",
     "text": [
      "('john', 'P@$sw0rd!')\n"
     ]
    }
   ],
   "source": [
    "# check database\n",
    "conn.commit()\n",
    "for row in cur.execute('select * from users'):\n",
    "    print(row)"
   ]
  },
  {
   "cell_type": "markdown",
   "metadata": {},
   "source": [
    "### what is wrong with the above codes?"
   ]
  },
  {
   "cell_type": "markdown",
   "metadata": {},
   "source": [
    "### verify users and SQL injection attack"
   ]
  },
  {
   "cell_type": "code",
   "execution_count": 18,
   "metadata": {
    "collapsed": true
   },
   "outputs": [],
   "source": [
    "# Prompt user to create account\n",
    "def insecureAuthentication():\n",
    "    username = input('Enter your username: ')\n",
    "    password = input('Pick a password: ')\n",
    "    sqlSelect = '''select * from users where username = '{0}' \n",
    "                    and password = '{1}'\n",
    "                '''.format(username, password)\n",
    "    cur.execute(sqlSelect)\n",
    "    row = cur.fetchone()\n",
    "    if row:\n",
    "        print('Authentication sucessful! Welcome to your kingdom!')\n",
    "    else:\n",
    "        print('Wrong credentials. Try Again!')\n",
    "        "
   ]
  },
  {
   "cell_type": "code",
   "execution_count": 22,
   "metadata": {},
   "outputs": [
    {
     "name": "stdout",
     "output_type": "stream",
     "text": [
      "Enter your username: john\n",
      "Pick a password: ' or '1'='1\n",
      "Authentication sucessful! Welcome to your kingdom!\n"
     ]
    }
   ],
   "source": [
    "insecureAuthentication()"
   ]
  },
  {
   "cell_type": "markdown",
   "metadata": {},
   "source": [
    "## secure way to store password\n",
    "- https://docs.python.org/3/library/hashlib.html\n"
   ]
  },
  {
   "cell_type": "code",
   "execution_count": 23,
   "metadata": {
    "collapsed": true
   },
   "outputs": [],
   "source": [
    "import uuid\n",
    "import hashlib, binascii\n",
    "\n",
    "def createSecurePassword(password, salt=None, round=100000):\n",
    "    if not salt:\n",
    "        salt = uuid.uuid4().hex\n",
    "    \n",
    "    \"\"\"\n",
    "    for i in range(round):\n",
    "        password = password+salt\n",
    "        password = hashlib.sha256(password.encode('utf-8')).hexdigest()\n",
    "    \"\"\"\n",
    "    # hashlib.pbkdf2_hmac(hash_name, password, salt, iterations, dklen=None)\n",
    "    dk = hashlib.pbkdf2_hmac('sha256', password.encode('utf-8'), \n",
    "                        salt.encode('utf-8'), round)\n",
    "    password = binascii.hexlify(dk)\n",
    "    return \"%s:%s\"%(password, salt)"
   ]
  },
  {
   "cell_type": "code",
   "execution_count": 24,
   "metadata": {
    "collapsed": true
   },
   "outputs": [],
   "source": [
    "def secureRegistration():\n",
    "    # Prompt user to create account\n",
    "    username = input('Enter your username: ')\n",
    "    password = input('Pick a password: ')\n",
    "    secPass = createSecurePassword(password)\n",
    "    insert = '''insert into users (username, password)\n",
    "                values (?, ?)\n",
    "                '''\n",
    "    cur.execute(insert, (username, secPass))\n",
    "    "
   ]
  },
  {
   "cell_type": "code",
   "execution_count": 28,
   "metadata": {},
   "outputs": [
    {
     "name": "stdout",
     "output_type": "stream",
     "text": [
      "Enter your username: rbasnet\n",
      "Pick a password: P@$sw0rd\n"
     ]
    }
   ],
   "source": [
    "# register a user\n",
    "secureRegistration()"
   ]
  },
  {
   "cell_type": "code",
   "execution_count": 29,
   "metadata": {},
   "outputs": [
    {
     "name": "stdout",
     "output_type": "stream",
     "text": [
      "('john', 'P@$sw0rd!')\n",
      "('jake', \"b'2e961444d35fd0f80b24806fc0b9c2b8eee26a0647db12470da00d6bba61f5a7':bddf07e55c154eb78b01145a284f9603\")\n",
      "('rbasnet', \"b'ccbc5eef70a3e914bf78e2f9ae89db36a7d473ad4175062ef469f55429a45573':03d7d17444e2454789285dc0de92198e\")\n"
     ]
    }
   ],
   "source": [
    "# check data\n",
    "for row in cur.execute('select * from users'):\n",
    "    print(row)"
   ]
  },
  {
   "cell_type": "code",
   "execution_count": 27,
   "metadata": {
    "collapsed": true
   },
   "outputs": [],
   "source": [
    "conn.commit()"
   ]
  },
  {
   "cell_type": "code",
   "execution_count": 31,
   "metadata": {
    "collapsed": true
   },
   "outputs": [],
   "source": [
    "def secureAuthentication():\n",
    "    username = input('Enter your username: ')\n",
    "    password = input('Enter your password: ') \n",
    "    # use parameterized query\n",
    "    sqlSelect = 'select password from users where username = ?'\n",
    "    cur.execute(sqlSelect, (username,))\n",
    "    row = cur.fetchone()\n",
    "    if row:\n",
    "        # username exists\n",
    "        # check password hashes\n",
    "        hashpass = row[0]\n",
    "        hashedPass = hashpass[:hashpass.find(':')]\n",
    "        salt = hashpass[hashpass.find(':')+1:]\n",
    "        secPass = createSecurePassword(password, salt)\n",
    "        if hashpass == secPass:\n",
    "            print('Authentication sucessful! Welcome to your kingdom...')\n",
    "        else:\n",
    "            print('Wrong credentials. Try Again!')\n",
    "    else:\n",
    "        print('Wrong credentials. Try Again!')"
   ]
  },
  {
   "cell_type": "code",
   "execution_count": 34,
   "metadata": {},
   "outputs": [
    {
     "name": "stdout",
     "output_type": "stream",
     "text": [
      "Enter your username: jake\n",
      "Enter your password: ' or '1'='1\n",
      "jake\n",
      "Wrong credentials. Try Again!\n"
     ]
    }
   ],
   "source": [
    "secureAuthentication()"
   ]
  },
  {
   "cell_type": "code",
   "execution_count": 35,
   "metadata": {
    "collapsed": true
   },
   "outputs": [],
   "source": [
    "conn.commit()\n",
    "conn.close()"
   ]
  },
  {
   "cell_type": "code",
   "execution_count": null,
   "metadata": {
    "collapsed": true
   },
   "outputs": [],
   "source": []
  }
 ],
 "metadata": {
  "kernelspec": {
   "display_name": "Python 3",
   "language": "python",
   "name": "python3"
  },
  "language_info": {
   "codemirror_mode": {
    "name": "ipython",
    "version": 3
   },
   "file_extension": ".py",
   "mimetype": "text/x-python",
   "name": "python",
   "nbconvert_exporter": "python",
   "pygments_lexer": "ipython3",
   "version": "3.6.1"
  }
 },
 "nbformat": 4,
 "nbformat_minor": 2
}
