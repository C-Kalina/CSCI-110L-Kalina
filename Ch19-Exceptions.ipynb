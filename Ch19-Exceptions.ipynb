{
 "cells": [
  {
   "cell_type": "markdown",
   "metadata": {},
   "source": [
    "# Exceptions\n",
    "- dealing with bugs is normal part of programming\n",
    "- debugging is a very handy programming skill\n",
    "\n",
    "## category of bugs\n",
    "- syntax errors\n",
    "- logical/semantic errros\n",
    "- runtime errors/exceptions"
   ]
  },
  {
   "cell_type": "markdown",
   "metadata": {},
   "source": [
    "## exceptions\n",
    "- when runtime error occurs, it creats an exception object\n",
    "- program halts; Python prints out the traceback with error message\n",
    "- https://docs.python.org/3/tutorial/errors.html"
   ]
  },
  {
   "cell_type": "code",
   "execution_count": null,
   "metadata": {
    "collapsed": true
   },
   "outputs": [],
   "source": [
    "print(55/0)"
   ]
  },
  {
   "cell_type": "code",
   "execution_count": null,
   "metadata": {
    "collapsed": true
   },
   "outputs": [],
   "source": [
    "alist = []\n",
    "print(alist[0])"
   ]
  },
  {
   "cell_type": "code",
   "execution_count": null,
   "metadata": {
    "collapsed": true
   },
   "outputs": [],
   "source": [
    "atup = ('a', 'b', 'c')\n",
    "atup[0] = 'A'"
   ]
  },
  {
   "cell_type": "markdown",
   "metadata": {},
   "source": [
    "- each exception has two parts- Name: description"
   ]
  },
  {
   "cell_type": "markdown",
   "metadata": {},
   "source": [
    "## catching exceptions\n",
    "- use try and except blocks\n",
    "- try statement has several separate clauses/parts\n",
    "<pre>\n",
    "    try:\n",
    "        # statement(s) thay may potentially throw(s) exception\n",
    "    except ExceptionName1:\n",
    "        # catch specific exception ExceptionName1\n",
    "        # statement(s) to handle the exception\n",
    "    [except ExceptionName2 as err:\n",
    "        # statements\n",
    "    ]\n",
    "    [except:\n",
    "        # catch any error not caught by previous except blocks\n",
    "    ]\n",
    "    [else:\n",
    "        # follows all except clause\n",
    "        # execute if try clause does NOT raise an exception\n",
    "    ]\n",
    "    [finally:\n",
    "        # clean-up actions that must be executed under all circumstances; \n",
    "        # exectued on the way out when try block is left via a break, continue, or return statement\n",
    "    ]\n",
    "</pre>\n",
    "- <em>[ ] optional </em> "
   ]
  },
  {
   "cell_type": "markdown",
   "metadata": {},
   "source": [
    "### example 1"
   ]
  },
  {
   "cell_type": "code",
   "execution_count": null,
   "metadata": {
    "collapsed": true
   },
   "outputs": [],
   "source": [
    "try:\n",
    "    x = int(input(\"Enter dividend: \"))\n",
    "    y = int(input(\"Enter divisor: \"))\n",
    "    quotient = x/y\n",
    "    remainder = x%y\n",
    "except ZeroDivisionError as ex:\n",
    "    print('Exception occured:', ex)\n",
    "    print('arguments:', ex.args)\n",
    "except:\n",
    "    print('Some exception occured...')\n",
    "else:\n",
    "    print(\"quotient=\", quotient)\n",
    "    print(\"remainder=\", remainder)\n",
    "finally:\n",
    "    print(\"executing finally clause\")"
   ]
  },
  {
   "cell_type": "markdown",
   "metadata": {},
   "source": [
    "### example 2\n",
    "- input validation"
   ]
  },
  {
   "cell_type": "code",
   "execution_count": null,
   "metadata": {
    "collapsed": true
   },
   "outputs": [],
   "source": [
    "while True:\n",
    "    try:\n",
    "        x = int(input(\"Please enter a number: \"))\n",
    "        break\n",
    "    except ValueError:\n",
    "        print(\"Oops! That was not a valid number. Try again...\")"
   ]
  },
  {
   "cell_type": "markdown",
   "metadata": {},
   "source": [
    "## raising exceptions\n",
    " - raise statement allows programer to throw their own exceptions"
   ]
  },
  {
   "cell_type": "markdown",
   "metadata": {},
   "source": [
    "### example 1"
   ]
  },
  {
   "cell_type": "code",
   "execution_count": null,
   "metadata": {
    "collapsed": true
   },
   "outputs": [],
   "source": [
    "raise NameError(\"MyException\")"
   ]
  },
  {
   "cell_type": "code",
   "execution_count": null,
   "metadata": {
    "collapsed": true
   },
   "outputs": [],
   "source": [
    "try:\n",
    "    raise NameError('My Exception')\n",
    "except NameError:\n",
    "    print('An exception flew by...')\n",
    "    raise"
   ]
  },
  {
   "cell_type": "markdown",
   "metadata": {},
   "source": [
    "## user-defined exceptions\n",
    "- one can define their own exceptions and raise them as needed\n",
    "- should typically derive from the Exception class, either directly or indirectly\n",
    "\n",
    "### example 1"
   ]
  },
  {
   "cell_type": "code",
   "execution_count": null,
   "metadata": {
    "collapsed": true
   },
   "outputs": [],
   "source": [
    "class InputError(Exception):\n",
    "    \"\"\"\n",
    "    Exception raised for errors in the input.\n",
    "    \n",
    "    Attributes:\n",
    "    expression -- input expression in which the error occured\n",
    "    message -- explaination of the error\n",
    "    \"\"\"\n",
    "    def __init__(self, expression, message):\n",
    "        self.expression = expression\n",
    "        self.message = message\n",
    "    "
   ]
  },
  {
   "cell_type": "code",
   "execution_count": null,
   "metadata": {
    "collapsed": true
   },
   "outputs": [],
   "source": [
    "help(InputError)"
   ]
  },
  {
   "cell_type": "code",
   "execution_count": null,
   "metadata": {
    "collapsed": true
   },
   "outputs": [],
   "source": [
    "def getInteger():\n",
    "    x = input('Enter an integer number: ')\n",
    "    if not x.isdigit():\n",
    "        raise InputError(x, 'That is not enter an integer!')\n",
    "    return int(x)"
   ]
  },
  {
   "cell_type": "code",
   "execution_count": null,
   "metadata": {
    "collapsed": true
   },
   "outputs": [],
   "source": [
    "x = getInteger()\n",
    "print(x)"
   ]
  },
  {
   "cell_type": "code",
   "execution_count": null,
   "metadata": {
    "collapsed": true
   },
   "outputs": [],
   "source": []
  }
 ],
 "metadata": {
  "kernelspec": {
   "display_name": "Python 3",
   "language": "python",
   "name": "python3"
  },
  "language_info": {
   "codemirror_mode": {
    "name": "ipython",
    "version": 3
   },
   "file_extension": ".py",
   "mimetype": "text/x-python",
   "name": "python",
   "nbconvert_exporter": "python",
   "pygments_lexer": "ipython3",
   "version": "3.6.1"
  }
 },
 "nbformat": 4,
 "nbformat_minor": 2
}
