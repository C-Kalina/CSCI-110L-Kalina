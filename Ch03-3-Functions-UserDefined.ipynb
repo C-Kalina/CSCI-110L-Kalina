{
 "cells": [
  {
   "cell_type": "markdown",
   "metadata": {},
   "source": [
    "# User-defined Functions\n",
    "<a href=\"https://colab.research.google.com/github/rambasnet/FDSPython-Notebooks/blob/master/Ch03-3-Functions-UserDefined.ipynb\" target=\"_parent\"><img src=\"https://colab.research.google.com/assets/colab-badge.svg\" alt=\"Open In Colab\"/></a>\n",
    "\n",
    "- http://openbookproject.net/thinkcs/python/english3e/functions.html\n",
    "- named sequence of statements that execute together to solve some task \n",
    "- primary purpose is to help us break the problem into smaller sub-problems or tasks\n",
    "- two types: fruitful and void/fruitless functions\n",
    "- must be defined before it can be used or called (two step process)\n",
    "- syntax to define a function:\n",
    "```python\n",
    "def functionName( PARAMETER1, PARAMETER2, ... ):\n",
    "    # STATEMENTS\n",
    "    return VALUE\n",
    "```\n",
    "- PARAMETERS and return statements are OPTIONAL\n",
    "- function NAME follows the same rules as a variable/identifier name\n",
    "- recall some built-in functions and object methods have been used in previous chapters...\n",
    "- syntax to call function\n",
    "\n",
    "```python\n",
    "VARIABLE = functionName( ARGUMENT1, ARGUMENT2, ...)\n",
    "```"
   ]
  },
  {
   "cell_type": "markdown",
   "metadata": {},
   "source": [
    "## why functions?\n",
    "**dividing a program into functions or sub-programs have several advantages:**\n",
    "- give you an opportunity to name a group of statements, which makes your program easier to read and debug\n",
    "- can make a program smaller by eliminating repetitive code. Later, if you make a change, you only have to make it in one place\n",
    "- allow you to debug the parts one at a time (in a team) and then assemble them into a working whole\n",
    "- write once, test, share, and reuse many times (libraries, e.g.)"
   ]
  },
  {
   "cell_type": "markdown",
   "metadata": {},
   "source": [
    "## two-step process\n",
    "1. define function\n",
    "- call/use function"
   ]
  },
  {
   "cell_type": "markdown",
   "metadata": {},
   "source": [
    "## two types of functions\n",
    "### void/fruitless functions\n",
    "- functions that do not return a value\n",
    "\n",
    "### fruitful functions\n",
    "- functions that return 1 or more value(s)"
   ]
  },
  {
   "cell_type": "markdown",
   "metadata": {},
   "source": [
    "### fruitless function examples"
   ]
  },
  {
   "cell_type": "code",
   "execution_count": 2,
   "metadata": {
    "scrolled": true
   },
   "outputs": [],
   "source": [
    "# Function definition\n",
    "def greet():\n",
    "    print('Hello World!')"
   ]
  },
  {
   "cell_type": "code",
   "execution_count": 3,
   "metadata": {
    "scrolled": true
   },
   "outputs": [
    {
     "name": "stdout",
     "output_type": "stream",
     "text": [
      "Hello World!\n"
     ]
    }
   ],
   "source": [
    "# Function call\n",
    "greet()"
   ]
  },
  {
   "cell_type": "code",
   "execution_count": 4,
   "metadata": {
    "scrolled": true
   },
   "outputs": [
    {
     "name": "stdout",
     "output_type": "stream",
     "text": [
      "Hello World!\n",
      "a = None\n"
     ]
    }
   ],
   "source": [
    "# void fruitless function; returns None by default\n",
    "a = greet() # returned value\n",
    "print('a =', a)"
   ]
  },
  {
   "cell_type": "code",
   "execution_count": 24,
   "metadata": {
    "scrolled": true
   },
   "outputs": [
    {
     "data": {
      "text/plain": [
       "function"
      ]
     },
     "execution_count": 24,
     "metadata": {},
     "output_type": "execute_result"
    }
   ],
   "source": [
    "type(greet)"
   ]
  },
  {
   "cell_type": "code",
   "execution_count": 25,
   "metadata": {
    "scrolled": true
   },
   "outputs": [
    {
     "data": {
      "text/plain": [
       "function"
      ]
     },
     "execution_count": 25,
     "metadata": {},
     "output_type": "execute_result"
    }
   ],
   "source": [
    "# function can be assigned to a variable\n",
    "myfunc = greet\n",
    "type(myfunc)"
   ]
  },
  {
   "cell_type": "code",
   "execution_count": 26,
   "metadata": {
    "scrolled": true
   },
   "outputs": [
    {
     "name": "stdout",
     "output_type": "stream",
     "text": [
      "Hello World!\n"
     ]
    }
   ],
   "source": [
    "myfunc()"
   ]
  },
  {
   "cell_type": "markdown",
   "metadata": {},
   "source": [
    "## passing data as arguments to functions\n",
    "- functions are subprograms that may need external data to work with\n",
    "- one can pass data to functions via parameters/arguments\n",
    "- can provide 1 or more parameters to pass data\n",
    "- can provide default values to parameters\n",
    "    - makes the parameter optional when the function is called\n",
    "- if a function has a required parameter, data must be provided for each required parameter!"
   ]
  },
  {
   "cell_type": "code",
   "execution_count": 1,
   "metadata": {
    "scrolled": true
   },
   "outputs": [],
   "source": [
    "# function takes one required argument\n",
    "def greet(name):\n",
    "    print('Hello {}'.format(name))"
   ]
  },
  {
   "cell_type": "code",
   "execution_count": 2,
   "metadata": {},
   "outputs": [
    {
     "name": "stdout",
     "output_type": "stream",
     "text": [
      "Hello John Smith\n"
     ]
    }
   ],
   "source": [
    "greet('John Smith')"
   ]
  },
  {
   "cell_type": "code",
   "execution_count": 3,
   "metadata": {
    "scrolled": true
   },
   "outputs": [
    {
     "ename": "TypeError",
     "evalue": "greet() missing 1 required positional argument: 'name'",
     "output_type": "error",
     "traceback": [
      "\u001b[0;31m---------------------------------------------------------------------------\u001b[0m",
      "\u001b[0;31mTypeError\u001b[0m                                 Traceback (most recent call last)",
      "\u001b[0;32m<ipython-input-3-04220913ffae>\u001b[0m in \u001b[0;36m<module>\u001b[0;34m()\u001b[0m\n\u001b[0;32m----> 1\u001b[0;31m \u001b[0mgreet\u001b[0m\u001b[0;34m(\u001b[0m\u001b[0;34m)\u001b[0m \u001b[0;31m# How to fix? provide either default value or call it properly\u001b[0m\u001b[0;34m\u001b[0m\u001b[0;34m\u001b[0m\u001b[0m\n\u001b[0m",
      "\u001b[0;31mTypeError\u001b[0m: greet() missing 1 required positional argument: 'name'"
     ]
    }
   ],
   "source": [
    "greet() # How to fix? provide either default value or call it properly"
   ]
  },
  {
   "cell_type": "code",
   "execution_count": 4,
   "metadata": {
    "scrolled": true
   },
   "outputs": [],
   "source": [
    "# function takes one optional argument\n",
    "def greet(name=\"Anonymous\"):\n",
    "    print('Hello {}'.format(name))"
   ]
  },
  {
   "cell_type": "code",
   "execution_count": 5,
   "metadata": {
    "scrolled": true
   },
   "outputs": [
    {
     "name": "stdout",
     "output_type": "stream",
     "text": [
      "Hello Anonymous\n"
     ]
    }
   ],
   "source": [
    "greet()"
   ]
  },
  {
   "cell_type": "code",
   "execution_count": 7,
   "metadata": {
    "scrolled": false
   },
   "outputs": [
    {
     "name": "stdout",
     "output_type": "stream",
     "text": [
      "Enter your name: Johnny\n",
      "Hello Johnny\n"
     ]
    }
   ],
   "source": [
    "user = input('Enter your name: ')\n",
    "greet(user)"
   ]
  },
  {
   "cell_type": "markdown",
   "metadata": {},
   "source": [
    "## scope of variables\n",
    "### two scopes in Python (global and local)\n",
    "### global scope\n",
    "- any variables/identifiers defined outside functions\n",
    "\n",
    "### local scope\n",
    "- the variables defined in a function have local scope\n",
    "- can be used/accessed only from within that function\n",
    "- parameter is also a local variable to the function"
   ]
  },
  {
   "cell_type": "code",
   "execution_count": 33,
   "metadata": {
    "scrolled": true
   },
   "outputs": [
    {
     "ename": "NameError",
     "evalue": "name 'name' is not defined",
     "output_type": "error",
     "traceback": [
      "\u001b[0;31m---------------------------------------------------------------------------\u001b[0m",
      "\u001b[0;31mNameError\u001b[0m                                 Traceback (most recent call last)",
      "\u001b[0;32m<ipython-input-33-9ba126b17b03>\u001b[0m in \u001b[0;36m<module>\u001b[0;34m()\u001b[0m\n\u001b[0;32m----> 1\u001b[0;31m \u001b[0mprint\u001b[0m\u001b[0;34m(\u001b[0m\u001b[0mname\u001b[0m\u001b[0;34m)\u001b[0m\u001b[0;34m\u001b[0m\u001b[0;34m\u001b[0m\u001b[0m\n\u001b[0m",
      "\u001b[0;31mNameError\u001b[0m: name 'name' is not defined"
     ]
    }
   ],
   "source": [
    "# name is local to greet function\n",
    "print(name)"
   ]
  },
  {
   "cell_type": "markdown",
   "metadata": {},
   "source": [
    "### [visualize variables' scope with PythonTutor.com](http://pythontutor.com/visualize.html#code=var1%20%3D%20%22Alice%22%0Adef%20myFunc%28a,%20b,%20c%29%3A%0A%20%20%20%20var1%20%3D%20%22Bob%22%0A%20%20%20%20var2%20%3D%20%22John%22%0A%20%20%20%20print%28'a%20%3D%20%7B%7D'.format%28a%29%29%0A%0AmyFunc%281,%20'Apple',%203.99%29%0Aprint%28var1%29&cumulative=false&curInstr=0&heapPrimitives=false&mode=display&origin=opt-frontend.js&py=3&rawInputLstJSON=%5B%5D&textReferences=false)"
   ]
  },
  {
   "cell_type": "markdown",
   "metadata": {},
   "source": [
    "### accessing global variables inside function"
   ]
  },
  {
   "cell_type": "code",
   "execution_count": 9,
   "metadata": {},
   "outputs": [
    {
     "name": "stdout",
     "output_type": "stream",
     "text": [
      "var1 = Bob\n",
      "var2 =  John\n",
      "arg1 =  1\n",
      "arg2 =  Apple\n",
      "Alice\n"
     ]
    }
   ],
   "source": [
    "# global and local scope demos\n",
    "# how to modify global variable inside function\n",
    "var1 = \"Alice\" #global\n",
    "def myFunc(arg1, arg2):\n",
    "    #global var1\n",
    "    var1 = \"Bob\" # global or local? How can we access global var1?\n",
    "    var2 = \"John\"\n",
    "    print('var1 = {}'.format(var1))\n",
    "    print('var2 = ', var2)\n",
    "    print('arg1 = ', arg1)\n",
    "    print('arg2 = ', arg2)\n",
    "\n",
    "myFunc(1, 'Apple')\n",
    "print(var1)"
   ]
  },
  {
   "cell_type": "markdown",
   "metadata": {},
   "source": [
    "[Visualize in PythonTutor.com](http://pythontutor.com/visualize.html#code=%23%20global%20and%20local%20scope%20demos%0A%23%20how%20to%20modify%20global%20variable%20inside%20function%0Avar1%20%3D%20%22Alice%22%20%23global%0Adef%20myFunc%28arg1,%20arg2%29%3A%0A%20%20%20%20%23global%20var1%0A%20%20%20%20var1%20%3D%20%22Bob%22%20%23%20global%20or%20local%3F%20How%20can%20we%20access%20global%20var1%3F%0A%20%20%20%20var2%20%3D%20%22John%22%0A%20%20%20%20print%28'var1%20%3D%20%7B%7D'.format%28var1%29%29%0A%20%20%20%20print%28'var2%20%3D%20',%20var2%29%0A%20%20%20%20print%28'arg1%20%3D%20',%20arg1%29%0A%20%20%20%20print%28'arg2%20%3D%20',%20arg2%29%0A%0AmyFunc%281,%20'Apple'%29%0Aprint%28var1%29&cumulative=false&curInstr=0&heapPrimitives=false&mode=display&origin=opt-frontend.js&py=3&rawInputLstJSON=%5B%5D&textReferences=false)"
   ]
  },
  {
   "cell_type": "markdown",
   "metadata": {},
   "source": [
    "## fruitful functions\n",
    "- functions that return some value(s)\n",
    "- more useful functions\n",
    "- answer returned can be used as intermediate values to solve bigger problems\n",
    "- can be used and tested independently\n",
    "- fruitful functions usually take some arguments and return value(s) as answer\n",
    "- most built-in and library functions are fruitful"
   ]
  },
  {
   "cell_type": "markdown",
   "metadata": {},
   "source": [
    "Problem statement: \n",
    "- Define a function that takes two numbers as arguments and returns the sum of the two numbers as answer"
   ]
  },
  {
   "cell_type": "code",
   "execution_count": 2,
   "metadata": {},
   "outputs": [],
   "source": [
    "def add(num1, num2):\n",
    "    \"\"\"\n",
    "    takes two numeric arguments: num1 and num2\n",
    "    calculates and returns the sume of num1 and num2\n",
    "    \"\"\"\n",
    "    total = num1 + num2\n",
    "    return total"
   ]
  },
  {
   "cell_type": "code",
   "execution_count": 3,
   "metadata": {},
   "outputs": [
    {
     "data": {
      "text/plain": [
       "300"
      ]
     },
     "execution_count": 3,
     "metadata": {},
     "output_type": "execute_result"
    }
   ],
   "source": [
    "# call add to run and test\n",
    "add(100, 200)"
   ]
  },
  {
   "cell_type": "code",
   "execution_count": 4,
   "metadata": {},
   "outputs": [
    {
     "data": {
      "text/plain": [
       "90.99"
      ]
     },
     "execution_count": 4,
     "metadata": {},
     "output_type": "execute_result"
    }
   ],
   "source": [
    "add(100.99, -10)"
   ]
  },
  {
   "cell_type": "code",
   "execution_count": 5,
   "metadata": {},
   "outputs": [
    {
     "name": "stdout",
     "output_type": "stream",
     "text": [
      "Help on function add in module __main__:\n",
      "\n",
      "add(num1, num2)\n",
      "    takes two numeric arguments: num1 and num2\n",
      "    calculates and returns the sume of num1 and num2\n",
      "\n"
     ]
    }
   ],
   "source": [
    "# displays the function prototype and docstring below it\n",
    "help(add)"
   ]
  },
  {
   "cell_type": "code",
   "execution_count": 6,
   "metadata": {
    "scrolled": true
   },
   "outputs": [],
   "source": [
    "# Exercise - complete the following function\n",
    "def multiply(x, y):\n",
    "    \"\"\"\n",
    "    Function takes two numbers, x and y.\n",
    "    Returns the product of x and y.\n",
    "    FIXME\n",
    "    \"\"\"\n",
    "    pass"
   ]
  },
  {
   "cell_type": "code",
   "execution_count": 15,
   "metadata": {
    "scrolled": true
   },
   "outputs": [
    {
     "name": "stdout",
     "output_type": "stream",
     "text": [
      "Help on function multiply in module __main__:\n",
      "\n",
      "multiply(x, y)\n",
      "    Function takes two numbers, x and y.\n",
      "    Returns the product of x and y.\n",
      "    FIXME\n",
      "\n"
     ]
    }
   ],
   "source": [
    "# help can be run for user-defined functions as well\n",
    "help(multiply)"
   ]
  },
  {
   "cell_type": "markdown",
   "metadata": {},
   "source": [
    "## automatic testing functions / unit testing\n",
    " - assert statement can be used to automatically test fruitful functions\n",
    " - each assertion must be True or must pass in order to continue to the next\n",
    " - if assertion fails, throws AssertionError exception and program halts"
   ]
  },
  {
   "cell_type": "code",
   "execution_count": 21,
   "metadata": {},
   "outputs": [],
   "source": [
    "# see how assert statments work\n",
    "assert True == True"
   ]
  },
  {
   "cell_type": "code",
   "execution_count": 19,
   "metadata": {},
   "outputs": [],
   "source": [
    "assert 10 != '10'"
   ]
  },
  {
   "cell_type": "code",
   "execution_count": 18,
   "metadata": {},
   "outputs": [
    {
     "ename": "AssertionError",
     "evalue": "",
     "output_type": "error",
     "traceback": [
      "\u001b[0;31m---------------------------------------------------------------------------\u001b[0m",
      "\u001b[0;31mAssertionError\u001b[0m                            Traceback (most recent call last)",
      "\u001b[0;32m<ipython-input-18-2baf78a17125>\u001b[0m in \u001b[0;36m<module>\u001b[0;34m()\u001b[0m\n\u001b[0;32m----> 1\u001b[0;31m \u001b[0;32massert\u001b[0m \u001b[0;32mTrue\u001b[0m \u001b[0;34m==\u001b[0m \u001b[0;32mFalse\u001b[0m\u001b[0;34m\u001b[0m\u001b[0;34m\u001b[0m\u001b[0m\n\u001b[0m",
      "\u001b[0;31mAssertionError\u001b[0m: "
     ]
    }
   ],
   "source": [
    "assert True == False"
   ]
  },
  {
   "cell_type": "code",
   "execution_count": 20,
   "metadata": {},
   "outputs": [
    {
     "ename": "AssertionError",
     "evalue": "",
     "output_type": "error",
     "traceback": [
      "\u001b[0;31m---------------------------------------------------------------------------\u001b[0m",
      "\u001b[0;31mAssertionError\u001b[0m                            Traceback (most recent call last)",
      "\u001b[0;32m<ipython-input-20-ede1acf3c16e>\u001b[0m in \u001b[0;36m<module>\u001b[0;34m()\u001b[0m\n\u001b[0;32m----> 1\u001b[0;31m \u001b[0;32massert\u001b[0m \u001b[0;34m'a'\u001b[0m \u001b[0;34m==\u001b[0m \u001b[0;34m'A'\u001b[0m\u001b[0;34m\u001b[0m\u001b[0;34m\u001b[0m\u001b[0m\n\u001b[0m",
      "\u001b[0;31mAssertionError\u001b[0m: "
     ]
    }
   ],
   "source": [
    "assert 'a' == 'A'"
   ]
  },
  {
   "cell_type": "code",
   "execution_count": 16,
   "metadata": {},
   "outputs": [],
   "source": [
    "# uint testing add function\n",
    "assert add(2, 3) == 5\n",
    "assert add(10, -5) == 5\n",
    "# assert add(100, 2000.99) == ?"
   ]
  },
  {
   "cell_type": "code",
   "execution_count": 17,
   "metadata": {},
   "outputs": [],
   "source": [
    "# unit testing multiply function\n",
    "# write some sample test cases for multiply function using assert statement"
   ]
  },
  {
   "cell_type": "markdown",
   "metadata": {},
   "source": [
    "### functions can return more than 1 values"
   ]
  },
  {
   "cell_type": "code",
   "execution_count": 9,
   "metadata": {
    "scrolled": true
   },
   "outputs": [],
   "source": [
    "def getAreaAndPerimeter(length, width):\n",
    "    \"\"\"\n",
    "    Function takes length and width of a rectangle.\n",
    "    Finds and returns area and perimeter of the rectangle.\n",
    "    \"\"\"\n",
    "    area = length*width\n",
    "    perimeter = 2*(length+width)\n",
    "    return area, perimeter"
   ]
  },
  {
   "cell_type": "code",
   "execution_count": 10,
   "metadata": {},
   "outputs": [
    {
     "name": "stdout",
     "output_type": "stream",
     "text": [
      "(50, 30)\n"
     ]
    }
   ],
   "source": [
    "print(getAreaAndPerimeter(10, 5))"
   ]
  },
  {
   "cell_type": "code",
   "execution_count": 11,
   "metadata": {},
   "outputs": [
    {
     "name": "stdout",
     "output_type": "stream",
     "text": [
      "area = 200 and perimeter = 60\n"
     ]
    }
   ],
   "source": [
    "area, perimeter = getAreaAndPerimeter(20, 10)\n",
    "print('area = {} and perimeter = {}'.format(area, perimeter))"
   ]
  },
  {
   "cell_type": "code",
   "execution_count": 14,
   "metadata": {},
   "outputs": [],
   "source": [
    "# test getAreaAndParameter() function\n",
    "assert getAreaAndPerimeter(4, 2) == (8, 12)"
   ]
  },
  {
   "cell_type": "markdown",
   "metadata": {},
   "source": [
    "## variable length arguments\n",
    "- *args (non-keyworded variable length arguments)\n",
    "- *kwargs (keyworded variable length arguments)\n",
    "- use when not sure how many arguments will be passed to the function\n",
    "- e.g., built-in print function uses variable length arguments\n",
    "\n",
    "### print(*object, sep=' ', end='\\n', file=sys.stdout, flush=False)"
   ]
  },
  {
   "cell_type": "code",
   "execution_count": 19,
   "metadata": {},
   "outputs": [],
   "source": [
    "# variable length arguments demo\n",
    "def someFunction(a, b, c, *args, **kwargs):\n",
    "    print('a = ', a)\n",
    "    print('b = ', b)\n",
    "    print('c = ', c)\n",
    "    print('*args = ', args)\n",
    "    print('type of args = ', type(args))\n",
    "    print('**kwargs = ', kwargs)\n",
    "    print('type of kwargs = ', type(kwargs))"
   ]
  },
  {
   "cell_type": "code",
   "execution_count": 20,
   "metadata": {},
   "outputs": [
    {
     "name": "stdout",
     "output_type": "stream",
     "text": [
      "a =  1\n",
      "b =  Apple\n",
      "c =  4.5\n",
      "*args =  (5, [2.5, 'b'])\n",
      "type of args =  <class 'tuple'>\n",
      "**kwargs =  {'fname': 'Jake', 'num': 1}\n",
      "type of kwargs =  <class 'dict'>\n"
     ]
    }
   ],
   "source": [
    "# call someFunction with some arguments\n",
    "someFunction(1, 'Apple', 4.5, 5, [2.5, 'b'], fname='Jake', num=1)"
   ]
  },
  {
   "cell_type": "markdown",
   "metadata": {
    "collapsed": true,
    "scrolled": true
   },
   "source": [
    "## passing data as arguments to functions\n",
    "### two ways: \"by value\" and \"by reference\"\n",
    "### pass by value\n",
    "- immutable variables and values (string, int, float) are passed by value by copying the values to the corresponding parameters"
   ]
  },
  {
   "cell_type": "code",
   "execution_count": 13,
   "metadata": {},
   "outputs": [
    {
     "name": "stdout",
     "output_type": "stream",
     "text": [
      "hello John\n",
      "hello again John\n",
      "var1 =  John\n"
     ]
    }
   ],
   "source": [
    "var1 = 'John' # global variable\n",
    "def greetSomeone(para1):\n",
    "    print('hello', para1)\n",
    "    var1 = 'Jake' # local variable\n",
    "    print('hello again', para1)\n",
    "    \n",
    "greetSomeone(var1)\n",
    "print('var1 = ', var1)"
   ]
  },
  {
   "cell_type": "markdown",
   "metadata": {},
   "source": [
    "## [visualize pass by value with PythonTutor.com](http://pythontutor.com/visualize.html#code=var1%20%3D%20'John'%20%23%20global%20variable%0Adef%20greetSomeone%28para1%29%3A%0A%20%20%20%20print%28'hello',%20para1%29%0A%20%20%20%20var1%20%3D%20'Jake'%20%23%20local%20variable%0A%20%20%20%20print%28'hello%20again',%20para1%29%0A%20%20%20%20%0AgreetSomeone%28var1%29%0Aprint%28'var1%20%3D%20',%20var1%29&cumulative=false&curInstr=0&heapPrimitives=false&mode=display&origin=opt-frontend.js&py=3&rawInputLstJSON=%5B%5D&textReferences=false)"
   ]
  },
  {
   "cell_type": "markdown",
   "metadata": {},
   "source": [
    "## Exercises"
   ]
  },
  {
   "cell_type": "markdown",
   "metadata": {},
   "source": [
    "### exercise 1\n",
    "Write a function that takes two numbers; subtracts the second from the first and returns the difference.\n",
    "Write two test cases."
   ]
  },
  {
   "cell_type": "code",
   "execution_count": 22,
   "metadata": {},
   "outputs": [],
   "source": [
    "# solution to exercise 1\n",
    "def sub(num1, num2):\n",
    "    return num1-num2"
   ]
  },
  {
   "cell_type": "code",
   "execution_count": 34,
   "metadata": {},
   "outputs": [],
   "source": [
    "def test_sub():\n",
    "    assert sub(100, 50) == 50\n",
    "    assert sub(80, 45.5) == 34.5\n",
    "    print('all test cases passed for sub()!')"
   ]
  },
  {
   "cell_type": "code",
   "execution_count": 32,
   "metadata": {},
   "outputs": [
    {
     "name": "stdout",
     "output_type": "stream",
     "text": [
      "all test cases passed for test function!\n"
     ]
    }
   ],
   "source": [
    "test_sub()"
   ]
  },
  {
   "cell_type": "markdown",
   "metadata": {},
   "source": [
    "### exercise 2\n",
    "<pre>\n",
    "Write a function that converts seconds to hours, minutes and seconds. Function then returns the values in HH:MM:SS format (e.g., 01:09:10)\n",
    "</pre>"
   ]
  },
  {
   "cell_type": "code",
   "execution_count": 26,
   "metadata": {},
   "outputs": [],
   "source": [
    "def get_time(seconds):\n",
    "    pass"
   ]
  },
  {
   "cell_type": "code",
   "execution_count": 37,
   "metadata": {},
   "outputs": [],
   "source": [
    "#Here are some tests that should pass:\n",
    "def test_get_time():\n",
    "    assert get_time(3666) == '01:01:06'\n",
    "    assert get_time(36610) == '10:10:10'\n",
    "    print('all test cases passed for get_time()')"
   ]
  },
  {
   "cell_type": "code",
   "execution_count": null,
   "metadata": {},
   "outputs": [],
   "source": [
    "test_get_time()"
   ]
  },
  {
   "cell_type": "markdown",
   "metadata": {},
   "source": [
    "### exercise 3\n",
    "<pre>\n",
    "Write a function called hypotenuse that returns the length of the hypotenuse of a right triangle given the lengths of the two legs as parameters.\n",
    "</pre>"
   ]
  },
  {
   "cell_type": "code",
   "execution_count": 35,
   "metadata": {},
   "outputs": [],
   "source": [
    "def hypotenuse(leg1, leg2):\n",
    "    pass"
   ]
  },
  {
   "cell_type": "code",
   "execution_count": 36,
   "metadata": {},
   "outputs": [],
   "source": [
    "def test_hypotenuse():\n",
    "    assert hypotenuse(3, 4) == 5.0\n",
    "    assert hypotenuse(12, 5) == 13.0\n",
    "    assert hypotenuse(24, 7) == 25.0\n",
    "    assert hypotenuse(9, 12) == 15.0\n",
    "    print('all test cases passed hypotenuse()')"
   ]
  },
  {
   "cell_type": "code",
   "execution_count": null,
   "metadata": {},
   "outputs": [],
   "source": [
    "test_hypotenuse()"
   ]
  },
  {
   "cell_type": "markdown",
   "metadata": {},
   "source": [
    "### exercise 4\n",
    "<pre>\n",
    "Write a function slope(x1, y1, x2, y2) that returns the slope of the line through the points (x1, y1) and (x2, y2). Be sure your implementation of slope can pass the test cases provided in test_slope().\n",
    "\n",
    "Then use a call to slope in a new function named intercept(x1, y1, x2, y2) that returns the y-intercept of the line through the points (x1, y1) and (x2, y2)\n",
    "\n",
    "</pre>"
   ]
  },
  {
   "cell_type": "code",
   "execution_count": 38,
   "metadata": {},
   "outputs": [],
   "source": [
    "def slope(x1, y1, x2, y2):\n",
    "    pass"
   ]
  },
  {
   "cell_type": "code",
   "execution_count": 39,
   "metadata": {},
   "outputs": [],
   "source": [
    "def test_slope():\n",
    "    assert slope(5, 3, 4, 2) == 1.0\n",
    "    assert slope(1, 2, 3, 2) == 0.0\n",
    "    assert slope(1, 2, 3, 3) == 0.5\n",
    "    assert slope(2, 4, 1, 2) == 2.0\n",
    "    print('all test cases passed for slope()')"
   ]
  },
  {
   "cell_type": "code",
   "execution_count": null,
   "metadata": {},
   "outputs": [],
   "source": [
    "test_slope()"
   ]
  },
  {
   "cell_type": "code",
   "execution_count": 42,
   "metadata": {},
   "outputs": [],
   "source": [
    "def intercept(x1, y1, x2, y2):\n",
    "    pass"
   ]
  },
  {
   "cell_type": "code",
   "execution_count": 43,
   "metadata": {},
   "outputs": [],
   "source": [
    "def test_intercept():\n",
    "    assert intercept(1, 6, 3, 12) == 3.0\n",
    "    assert intercept(6, 1, 1, 6) == 7.0\n",
    "    assert intercept(4, 6, 12, 8) == 5.0\n",
    "    print('all test cases passed for intercept()')"
   ]
  },
  {
   "cell_type": "code",
   "execution_count": null,
   "metadata": {},
   "outputs": [],
   "source": [
    "test_intercept()"
   ]
  },
  {
   "cell_type": "markdown",
   "metadata": {},
   "source": [
    "## Kattis problems requiring functions\n",
    "- functions are not required to solve problems\n",
    "- you can use function to solve each and every problem\n",
    "- function is required if you must write unit test cases"
   ]
  },
  {
   "cell_type": "code",
   "execution_count": null,
   "metadata": {},
   "outputs": [],
   "source": []
  }
 ],
 "metadata": {
  "kernelspec": {
   "display_name": "Python 3",
   "language": "python",
   "name": "python3"
  },
  "language_info": {
   "codemirror_mode": {
    "name": "ipython",
    "version": 3
   },
   "file_extension": ".py",
   "mimetype": "text/x-python",
   "name": "python",
   "nbconvert_exporter": "python",
   "pygments_lexer": "ipython3",
   "version": "3.7.2"
  }
 },
 "nbformat": 4,
 "nbformat_minor": 2
}
