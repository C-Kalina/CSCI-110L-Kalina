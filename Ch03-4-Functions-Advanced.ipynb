{
 "cells": [
  {
   "cell_type": "markdown",
   "metadata": {},
   "source": [
    "# Advanced Topics on Function"
   ]
  },
  {
   "cell_type": "markdown",
   "metadata": {},
   "source": [
    "## passing data as arguments to functions\n",
    "- data/values are passed to functions in two ways\n",
    "\n",
    "### pass by value\n",
    "- fundamental types and values (string, int, float) are passed by value by copying the values to the corresponding parameters\n",
    "\n",
    "### pass by reference\n",
    "- advanced container types (tuple, list, dict, etc.) are passed by reference\n",
    "- this topic will be discussed in the chapter covering those container types"
   ]
  },
  {
   "cell_type": "code",
   "execution_count": null,
   "metadata": {},
   "outputs": [],
   "source": [
    "var1 = 'John' # global variable\n",
    "def greetSomeone(para1):\n",
    "    print('hello', para1)\n",
    "    var1 = 'Jake' # local variable\n",
    "    print('hello again', para1)\n",
    "    \n",
    "greetSomeone(var1)\n",
    "print('var1 = ', var1)"
   ]
  },
  {
   "cell_type": "markdown",
   "metadata": {},
   "source": [
    "## [visualize pass by value with PythonTutor.com](http://pythontutor.com/visualize.html#code=var1%20%3D%20'John'%20%23%20global%20variable%0Adef%20greetSomeone%28para1%29%3A%0A%20%20%20%20print%28'hello',%20para1%29%0A%20%20%20%20var1%20%3D%20'Jake'%20%23%20local%20variable%0A%20%20%20%20print%28'hello%20again',%20para1%29%0A%20%20%20%20%0AgreetSomeone%28var1%29%0Aprint%28'var1%20%3D%20',%20var1%29&cumulative=false&curInstr=0&heapPrimitives=false&mode=display&origin=opt-frontend.js&py=3&rawInputLstJSON=%5B%5D&textReferences=false)"
   ]
  },
  {
   "cell_type": "markdown",
   "metadata": {},
   "source": [
    "## variable length arguments\n",
    "- when not sure how many arguments will be passed to the function (e.g., print())\n",
    "- *args (non-keyworded variable length arguments)\n",
    "- *kwargs (keyworded variable length arguments)\n",
    "- e.g., built-in print function uses variable length arguments\n",
    "\n",
    "### print(*object, sep=' ', end='\\n', file=sys.stdout, flush=False)"
   ]
  },
  {
   "cell_type": "code",
   "execution_count": 1,
   "metadata": {},
   "outputs": [],
   "source": [
    "# variable length arguments demo\n",
    "def someFunction(a, b, c, *varargs, **kwargs):\n",
    "    print('a = ', a)\n",
    "    print('b = ', b)\n",
    "    print('c = ', c)\n",
    "    print('*args = ', varargs)\n",
    "    print('type of args = ', type(varargs))\n",
    "    print('**kwargs = ', kwargs)\n",
    "    print('type of kwargs = ', type(kwargs))"
   ]
  },
  {
   "cell_type": "code",
   "execution_count": 2,
   "metadata": {},
   "outputs": [
    {
     "name": "stdout",
     "output_type": "stream",
     "text": [
      "a =  1\n",
      "b =  Apple\n",
      "c =  4.5\n",
      "*args =  (5, [2.5, 'b'])\n",
      "type of args =  <class 'tuple'>\n",
      "**kwargs =  {'fname': 'Jake', 'num': 1}\n",
      "type of kwargs =  <class 'dict'>\n"
     ]
    }
   ],
   "source": [
    "# call someFunction with some arguments\n",
    "someFunction(1, 'Apple', 4.5, 5, [2.5, 'b'], fname='Jake', num=1)"
   ]
  },
  {
   "cell_type": "markdown",
   "metadata": {},
   "source": []
  }
 ],
 "metadata": {
  "kernelspec": {
   "display_name": "Python 3",
   "language": "python",
   "name": "python3"
  },
  "language_info": {
   "codemirror_mode": {
    "name": "ipython",
    "version": 3
   },
   "file_extension": ".py",
   "mimetype": "text/x-python",
   "name": "python",
   "nbconvert_exporter": "python",
   "pygments_lexer": "ipython3",
   "version": "3.7.2"
  }
 },
 "nbformat": 4,
 "nbformat_minor": 2
}
